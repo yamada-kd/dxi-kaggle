{
  "cells": [
    {
      "cell_type": "markdown",
      "source": [
        "# 問題2"
      ],
      "metadata": {
        "id": "3s78MjGPaXT-"
      }
    },
    {
      "cell_type": "markdown",
      "metadata": {
        "id": "5acWcw9tbowt"
      },
      "source": [
        "## <font color='#3E1485'>**Mercari Price Suggestion Challenge**</font>\n"
      ]
    },
    {
      "cell_type": "markdown",
      "metadata": {
        "id": "sDmdfZjXc4Lf"
      },
      "source": [
        "### <font color='#9271C3'>背景</font>\n",
        "\n",
        "メルカリは日本の会社で、コミュニティ主導のマーケットプレイスを主な製品としている。ユーザーはほぼすべてのものを売りに出すことができ、適切と思われる価格を求めることができる。しかし、商品のカテゴリーによって価格傾向が異なる場合など、ユーザーが商品の価値を判断するのが難しいこともあります。\n",
        "\n",
        "メルカリはこのようなユーザーを支援し、価格を提案するアルゴリズムを作りたいと考えている。"
      ]
    },
    {
      "cell_type": "markdown",
      "metadata": {
        "id": "bZ_ngyChcISE"
      },
      "source": [
        "### <font color='#9271C3'>タスク</font>\n",
        "\n",
        "ユーザーが作成したアイテムの説明文、アイテムのタイプ情報、アイテムの状態が提供されます。この情報を使ってアイテムの販売価格を予測してください。"
      ]
    },
    {
      "cell_type": "markdown",
      "metadata": {
        "id": "DKQlE4uujUMh"
      },
      "source": [
        "### <font color='#9271C3'>データ</font>\n",
        "\n",
        "* `train.csv` - メルカリの出品データからなる学習データが格納されている。\n",
        "* `test.csv` - 販売価格を予測するためのテストデータ。\n",
        "* `sample_submission.csv` - 予測値を提出するフォーマット。"
      ]
    },
    {
      "cell_type": "markdown",
      "metadata": {
        "id": "skwc9dDjhPpd"
      },
      "source": [
        "### <font color='#9271C3'>お役立ちリンク集</font>\n",
        "\n",
        "[コンペHP](https://www.kaggle.com/competitions/mercari-price-suggestion-challenge/)\n",
        "\n",
        "[データ解説](https://www.kaggle.com/competitions/mercari-price-suggestion-challenge/data)\n",
        "\n",
        "[1位解答](https://www.kaggle.com/competitions/mercari-price-suggestion-challenge/discussion/50256)\n",
        "\n",
        "[2位解答](https://www.kaggle.com/competitions/mercari-price-suggestion-challenge/discussion/50499)\n",
        "\n",
        "[3位解答](https://www.kaggle.com/competitions/mercari-price-suggestion-challenge/discussion/50272)"
      ]
    },
    {
      "cell_type": "markdown",
      "metadata": {
        "id": "hdb7vTdWFpRK"
      },
      "source": [
        "## <font color='#3E1485'>**セットアップ**</font>\n",
        "\n",
        "以下のセルは必要なデータをダウンロードし、ノートブックで使用する環境を設定します。"
      ]
    },
    {
      "cell_type": "markdown",
      "metadata": {
        "id": "whJ4QYr6Fsbq"
      },
      "source": [
        "### <font color='#9271C3'>データセットをダウンロードする</font>\n",
        "\n",
        "Kaggleはコンペティションと簡単にやり取りできるAPIを提供しています。私たちはこのAPIを使って自動的にデータをダウンロードし、予測をアップロードします。\n",
        "\n",
        "このAPIを使用する最初のステップは、自分のユーザーとして認証することです。APIトークンはユーザー名とKaggleが生成したキーを含むファイルです。トークンはアカウントページからダウンロードすることができ、通常 `kaggle.json` と呼ばれます。APIトークンは、あなたのユーザーとしてAPIにアクセスするために必要なものなので、個人のGoogle Driveフォルダに安全に保管してください。\n",
        "\n",
        "このノートブックはGoogle Driveフォルダ内の`kaggle.json`というKaggle APIトークンを検索します。トークンをGoogle Driveに置いたことを確認し、プロンプトが表示されたらこのノートブックがトークンにアクセスすることを許可してください。\n",
        "\n",
        "認証後、参加したすべてのコンペティションにアクセスできます。データのダウンロードにエラーが発生した場合は、Kaggle API トークンが有効であること、コンペティションのルールに同意していることを確認してください。"
      ]
    },
    {
      "cell_type": "code",
      "execution_count": null,
      "metadata": {
        "id": "LQD2G6we26Uc"
      },
      "outputs": [],
      "source": [
        "from google.colab import drive\n",
        "import os\n",
        "import json\n",
        "\n",
        "drive.mount(\"/content/drive\", force_remount=True)\n",
        "fin = open(\"/content/drive/MyDrive/kaggle.json\", \"r\")\n",
        "json_data = json.load(fin)\n",
        "fin.close()\n",
        "os.environ[\"KAGGLE_USERNAME\"] = json_data[\"username\"]\n",
        "os.environ[\"KAGGLE_KEY\"] = json_data[\"key\"]"
      ]
    },
    {
      "cell_type": "code",
      "execution_count": null,
      "metadata": {
        "id": "AlP34vuZ3ROs"
      },
      "outputs": [],
      "source": [
        "%%bash\n",
        "kaggle competitions download -c mercari-price-suggestion-challenge\n",
        "if [ $? -ne 0 ]; then\n",
        "    echo \"データのダウンロードに問題があったようです。\"\n",
        "    echo \"競技規則に同意し、APIキーが有効であることを確認してください。\"\n",
        "else\n",
        "    mkdir -p /content/kaggle\n",
        "    unzip -o /content/mercari-price-suggestion-challenge.zip -d /content/kaggle\n",
        "    unzip -p /content/kaggle/test_stg2.tsv.zip > /content/kaggle/test.tsv\n",
        "    unzip -p /content/kaggle/sample_submission_stg2.csv.zip > /content/kaggle/sample_submission.csv\n",
        "    7z e -so /content/kaggle/train.tsv.7z > /content/kaggle/train.tsv\n",
        "    rm /content/kaggle/*.zip /content/kaggle/*.7z\n",
        "fi\n",
        "wget -q -P /tmp https://noto-website-2.storage.googleapis.com/pkgs/NotoSansCJKjp-hinted.zip\n",
        "unzip -o /tmp/NotoSansCJKjp-hinted.zip -d /usr/share/fonts/NotoSansCJKjp\n"
      ]
    },
    {
      "cell_type": "markdown",
      "metadata": {
        "id": "ntxzZOlbGXX9"
      },
      "source": [
        "### <font color='#9271C3'>計算環境</font>"
      ]
    },
    {
      "cell_type": "code",
      "execution_count": null,
      "metadata": {
        "id": "A-NnydfZGhXs"
      },
      "outputs": [],
      "source": [
        "import os\n",
        "import pandas as pd\n",
        "import numpy as np\n",
        "import matplotlib\n",
        "import matplotlib.pyplot as plt\n",
        "import seaborn as sns\n",
        "from sklearn.preprocessing import OneHotEncoder\n",
        "from sklearn.model_selection import cross_val_score\n",
        "from sklearn.ensemble import RandomForestRegressor\n",
        "from sklearn.metrics import mean_squared_log_error, make_scorer\n",
        "import lightgbm as lgb\n",
        "from tqdm.auto import tqdm\n",
        "\n",
        "font_path = '/usr/share/fonts/NotoSansCJKjp/NotoSansMonoCJKjp-Regular.otf'\n",
        "matplotlib.font_manager.fontManager.addfont(font_path)\n",
        "prop = matplotlib.font_manager.FontProperties(fname=font_path)\n",
        "plt.rcParams['font.family'] = 'sans-serif'\n",
        "plt.rcParams['font.sans-serif'] = prop.get_name()\n",
        "os.chdir('/content/kaggle')"
      ]
    },
    {
      "cell_type": "markdown",
      "metadata": {
        "id": "wnE-3PKRHFzM"
      },
      "source": [
        "## <font color='#3E1485'>**視覚化**</font>\n",
        "\n",
        "今大会では、トレーニングデータを含むファイルは1つだけです。データのほとんどはアイテム名、カテゴリー、説明などのテキストなので、視覚化するものがほとんどないように見えるかもしれません。しかし、いくつかの基本的な前処理を行うことで、これらをより簡単に視覚化できる他の値に変換することができます。"
      ]
    },
    {
      "cell_type": "markdown",
      "metadata": {
        "id": "L7Vzmd51IsMg"
      },
      "source": [
        "### <font color='#9271C3'>train.tsv</font>"
      ]
    },
    {
      "cell_type": "code",
      "execution_count": null,
      "metadata": {
        "id": "qcueI2pt3Re4"
      },
      "outputs": [],
      "source": [
        "data = pd.read_csv('/content/kaggle/train.tsv', index_col='train_id', sep='\\t')\n",
        "data"
      ]
    },
    {
      "cell_type": "markdown",
      "metadata": {
        "id": "lM4ymEv0VvKl"
      },
      "source": [
        "メルカリに出品されている商品は一般的に中古品であり、私たちのデータには`item_condition_id`という状態の指標が含まれています。値が小さいほど状態が良いことを表します。"
      ]
    },
    {
      "cell_type": "code",
      "execution_count": null,
      "metadata": {
        "id": "VMPKfDT0YBeh"
      },
      "outputs": [],
      "source": [
        "sns.barplot(data, x='item_condition_id', y='price');"
      ]
    },
    {
      "cell_type": "markdown",
      "metadata": {
        "id": "Zs65W_OMYmOj"
      },
      "source": [
        "中古でないものの価格は高く、中古のものの価格は低いと考えるのが普通だが、データではそうなっていない。むしろ、商品の状態は価格にほとんど影響を与えないようだ。"
      ]
    },
    {
      "cell_type": "markdown",
      "metadata": {
        "id": "JA8GbLi3JI3I"
      },
      "source": [
        "また、`category_name`の値は、単に`/`文字で区切られた3つの階層的なカテゴリーであることがわかる。より詳細な情報を得るために、元のカテゴリーを抽出することができる。"
      ]
    },
    {
      "cell_type": "code",
      "execution_count": null,
      "metadata": {
        "id": "7Zq5Ao2lJ9iK"
      },
      "outputs": [],
      "source": [
        "print(f\"オリジナルカテゴリ：{len(data['category_name'].unique())}\")\n",
        "data[['level1_category_name', 'level2_category_name', 'level3_category_name']] = data['category_name'].str.split('/', n=2, expand=True)\n",
        "print(f\"階層の一番目のレベル：{len(data['level1_category_name'].unique())}\")\n",
        "print(f\"階層の二番目のレベル：{len(data['level2_category_name'].unique())}\")\n",
        "print(f\"階層の三番目のレベル：{len(data['level3_category_name'].unique())}\")"
      ]
    },
    {
      "cell_type": "code",
      "execution_count": null,
      "metadata": {
        "id": "hZ5mhOOyK7nT"
      },
      "outputs": [],
      "source": [
        "sns.countplot(data, x='level1_category_name')\n",
        "plt.xticks(rotation=65);"
      ]
    },
    {
      "cell_type": "markdown",
      "metadata": {
        "id": "_O0vKk4nUYsb"
      },
      "source": [
        "このデータによると、出品数が圧倒的に多いカテゴリーは`Women`である。"
      ]
    },
    {
      "cell_type": "code",
      "execution_count": null,
      "metadata": {
        "id": "ySlXppwlT85y"
      },
      "outputs": [],
      "source": [
        "sns.countplot(data[data['level1_category_name']=='Women'], x='level2_category_name')\n",
        "plt.xticks(rotation=65);"
      ]
    },
    {
      "cell_type": "markdown",
      "metadata": {
        "id": "zEgpG1rkUl2d"
      },
      "source": [
        "このカテゴリーに含まれる商品のほとんどが婦人服であることがわかる。"
      ]
    },
    {
      "cell_type": "markdown",
      "metadata": {
        "id": "jrcNnAo2eWf8"
      },
      "source": [
        "最後のカラムは「ブランド名」である。これは販売価格の良い指標になるかもしれない。というのも、ブランドによっては格安志向のものもあれば、高級志向のものもあるからだ。\n",
        "\n",
        "先ほど生データを見たとき、この列にはいくつか`NaN`の項目があった。"
      ]
    },
    {
      "cell_type": "code",
      "execution_count": null,
      "metadata": {
        "id": "fnz3tib51K7M"
      },
      "outputs": [],
      "source": [
        "print(f'brand_nameのデータの{data[\"brand_name\"].isna().sum() * 100 / data.shape[0]:.2f}%はNaNである。')"
      ]
    },
    {
      "cell_type": "markdown",
      "metadata": {
        "id": "RpWG2lJXfxXP"
      },
      "source": [
        "値のかなりの部分が`NaN`であるが、この欄には有益な情報が含まれている。価格の中央値でソートした上位ブランドを見て、ブランドが価格にどのような影響を与えるかを検証する。100件未満のブランドは除外する。"
      ]
    },
    {
      "cell_type": "code",
      "execution_count": null,
      "metadata": {
        "id": "1Rwq7w7o3Rhb"
      },
      "outputs": [],
      "source": [
        "top_brands = data.groupby('brand_name')['price'].agg(['count', np.median]).sort_values(by='median', ascending=False)\n",
        "top_brands = top_brands[top_brands['count']>=100].reset_index()\n",
        "sns.barplot(top_brands.iloc[:30], x='median', y='brand_name');"
      ]
    },
    {
      "cell_type": "markdown",
      "metadata": {
        "id": "B2Z_TWKQjRzf"
      },
      "source": [
        "この図は、私たちの予想が概ね正しかったことを示している。最も高価なブランドの多くは、高級衣料品や宝飾品ブランドである。これらに加えて、エレクトロニクス・ブランドもあり、これらのアイテムは他のカテゴリーに比べ総じて高価である可能性がある。"
      ]
    },
    {
      "cell_type": "markdown",
      "metadata": {
        "id": "zV6dGHtQRMQ9"
      },
      "source": [
        "## <font color='#3E1485'>**モデリング**</font>"
      ]
    },
    {
      "cell_type": "markdown",
      "metadata": {
        "id": "pH_GRDYHPSrl"
      },
      "source": [
        "### <font color='#9271C3'>トレーニング</font>\n",
        "\n",
        "予測モデルを作成するために、比較的単純なアプローチを取ります。以下に、我々が扱うデータの備忘録として、データを表示します。"
      ]
    },
    {
      "cell_type": "code",
      "execution_count": null,
      "metadata": {
        "id": "ObR4qwhJnloc"
      },
      "outputs": [],
      "source": [
        "data.head()"
      ]
    },
    {
      "cell_type": "markdown",
      "metadata": {
        "id": "T7V4tPOoP_ZX"
      },
      "source": [
        "ほとんどの機械学習モデルはテキスト特徴を直接使用することができないため、以下のカラムを変換するか破棄する必要がある： `name`、`category_name`、そして先ほど作成した階層的なカテゴリーカラムである `brand_name`、`item_description` である。\n",
        "\n",
        "まず、`name`と`item_description`は非常に重要な情報を含んでいる可能性が高いが、処理が簡単ではないかもしれない。手始めに、これらのフィールドに価格が元々含まれているかどうかをチェックし、各フィールドの長さを決定します。価格に関連する他のキーワードがあるかもしれないので、手作業で探してみることもできる。より複雑で効果的な方法があるので、このノートの最後に紹介する。\n",
        "\n",
        "上記の可視化のセクションで、`brand_name`を使用することで、価格の傾向が異なるブランドの種類を識別できることを見ました。以前と同様のアプローチで、一定回数出現するブランド名を抽出します。\n",
        "\n",
        "最後に、`category_name`については、3つのカテゴリーレベルを抽出するが、第1レベルと第3レベルのみを使用する。\n",
        "\n",
        "カテゴリー特徴は数値でエンコードする必要がある。これは基本的に各カテゴリーに1つの列を作成し、1または0を使ってカテゴリーの有無を示す。この方法の欠点は、作成される列の数によるメモリ使用量である。データセットによっては、この方法は効果的でもスケーラブルでもない。"
      ]
    },
    {
      "cell_type": "code",
      "execution_count": null,
      "metadata": {
        "id": "kAH73maFkaRe"
      },
      "outputs": [],
      "source": [
        "train_data = data.copy().sample(frac=0.25).reset_index(drop=True)\n",
        "brand_name_ohe = OneHotEncoder(sparse_output=False, dtype=np.int8, handle_unknown='ignore')\n",
        "top_brands = data.groupby('brand_name')['price'].agg(['count', 'median'])\n",
        "top_brands = top_brands[top_brands['count']>=100].sort_values(by='median', ascending=False)\n",
        "top_brands = top_brands.reset_index()[['brand_name']]\n",
        "brand_name_ohe.fit(top_brands)\n",
        "category_name_ohe = OneHotEncoder(sparse_output=False, dtype=np.int8, handle_unknown='ignore')\n",
        "category_name_ohe.fit(train_data[['level1_category_name', 'level3_category_name']])\n",
        "train_data = pd.concat(\n",
        "    [\n",
        "        train_data,\n",
        "        pd.DataFrame(data=brand_name_ohe.transform(train_data[['brand_name']]), columns=brand_name_ohe.get_feature_names_out()),\n",
        "        pd.DataFrame(data=category_name_ohe.transform(train_data[['level1_category_name', 'level3_category_name']]), columns=category_name_ohe.get_feature_names_out())\n",
        "    ],\n",
        "    axis=1\n",
        ")\n",
        "train_data['price_in_name'] = train_data['name'].str.contains('[rm]', regex=False).fillna(False).astype(np.int8)\n",
        "train_data['price_in_item_description'] = train_data['item_description'].str.contains('[rm]', regex=False).fillna(False).astype(np.int8)\n",
        "train_data['name_len'] = train_data['name'].str.len()\n",
        "train_data['item_description_len'] = train_data['item_description'].str.len()\n",
        "train_data = train_data.drop(columns=['name', 'brand_name', 'category_name', 'item_description', 'level1_category_name', 'level2_category_name', 'level3_category_name', 'brand_name'])\n",
        "train_data = train_data.fillna(0)\n",
        "train_data"
      ]
    },
    {
      "cell_type": "markdown",
      "metadata": {
        "id": "nJBPPS5lXmLM"
      },
      "source": [
        "データを前処理すると、1,000を超えるカラムが含まれることになる。約13GBのRAMを持つ標準的なcolabのランタイムでは、モデルのトレーニング中にメモリ不足のエラーがほぼ確実に発生する。これを避けるため、初期データの25%のみをトレーニングに使用する。高メモリのランタイムが利用できる場合は、データセット全体を使用してみて、モデルのスコアにどのような影響が出るかを確認してください。\n",
        "以下で使用するモデルはLightGBMで、scikit-learnで実装された他のツリーベースのモデルと比較した場合、一般的に優れた性能を示すツリーベースのモデルです。一般的に優れたパフォーマンスに加えて、LightGBM は通常 scikit-learn のツリーベースのモデルよりも高速に学習し、より少ないメモリを使用します。\n",
        "同様の性能を持つ他のモデルには、XGBoost や CatBoost がある。\n",
        "標準的なランタイムでのトレーニングは数分かかるかもしれません。"
      ]
    },
    {
      "cell_type": "code",
      "execution_count": null,
      "metadata": {
        "id": "eG60H6ZehBqO"
      },
      "outputs": [],
      "source": [
        "def custom_rmsle_scorer(preds, eval_data):\n",
        "    preds[preds < 0] = 0\n",
        "    return ('rmsle', mean_squared_log_error(eval_data.get_label(), preds, squared=False), False)\n",
        "\n",
        "params = {\n",
        "    'objective': 'regression',\n",
        "    'num_iterations': 1000,\n",
        "    'early_stopping_rounds': 10,\n",
        "    'force_col_wise': True\n",
        "}\n",
        "lgb_train_data = lgb.Dataset(\n",
        "    data=train_data.drop(columns=['price']).values,\n",
        "    label=train_data['price'].values\n",
        ")\n",
        "cvbooster = lgb.cv(\n",
        "    params=params,\n",
        "    train_set=lgb_train_data,\n",
        "    metrics='rmsle',\n",
        "    feval=custom_rmsle_scorer,\n",
        "    stratified=False,\n",
        "    return_cvbooster=True\n",
        ")"
      ]
    },
    {
      "cell_type": "code",
      "execution_count": null,
      "metadata": {
        "id": "Wj4qwyAOjrhZ"
      },
      "outputs": [],
      "source": [
        "print(f\"平均rmsle：{np.min(cvbooster['valid rmsle-mean']):.3f}\")"
      ]
    },
    {
      "cell_type": "markdown",
      "source": [
        "### <font color='#9271C3'>予測</font>\n",
        "\n",
        "トレーニングが完了したら、テストデータセットの販売価格を予測するためにモデルを使うことができます。前と同じようにデータの前処理を行うが、メモリ不足にならないように小ロットで行う。\n",
        "\n",
        "`lgb.cv`はクロスバリデーションフォールドごとに1つのモデルを学習させるので、テストデータの各行に対して複数の価格予測を行うことになります。予測値の平均を最終的な予測値として使用します。\n",
        "\n",
        "**テストデータのサイズが大きいので、このセルは標準的なランタイム（2コア）で30分かかるかもしれない。**"
      ],
      "metadata": {
        "id": "4rqU322iG_ad"
      }
    },
    {
      "cell_type": "code",
      "execution_count": null,
      "metadata": {
        "id": "atmteHgvA5Xu"
      },
      "outputs": [],
      "source": [
        "chunksize = 100_000\n",
        "test_ids = []\n",
        "preds = []\n",
        "for test_data in tqdm(pd.read_csv('/content/kaggle/test.tsv', index_col='test_id', sep='\\t', chunksize=chunksize), total=int(np.ceil(3460725/chunksize))):\n",
        "    test_ids.append(test_data.index.values)\n",
        "    test_data = test_data.reset_index(drop=True)\n",
        "    test_data[['level1_category_name', 'level2_category_name', 'level3_category_name']] = test_data['category_name'].str.split('/', n=2, expand=True)\n",
        "    test_data = pd.concat(\n",
        "        [\n",
        "            test_data,\n",
        "            pd.DataFrame(data=brand_name_ohe.transform(test_data[['brand_name']]), columns=brand_name_ohe.get_feature_names_out()),\n",
        "            pd.DataFrame(data=category_name_ohe.transform(test_data[['level1_category_name', 'level3_category_name']]), columns=category_name_ohe.get_feature_names_out())\n",
        "        ],\n",
        "        axis=1\n",
        "    )\n",
        "    test_data['price_in_name'] = test_data['name'].str.contains('[rm]', regex=False).fillna(False).astype(np.int8)\n",
        "    test_data['price_in_item_description'] = test_data['item_description'].str.contains('[rm]', regex=False).fillna(False).astype(np.int8)\n",
        "    test_data['name_len'] = test_data['name'].str.len()\n",
        "    test_data['item_description_len'] = test_data['item_description'].str.len()\n",
        "    test_data = test_data.drop(columns=['name', 'brand_name', 'category_name', 'item_description', 'level1_category_name', 'level2_category_name', 'level3_category_name', 'brand_name'])\n",
        "    test_data = test_data.fillna(0)\n",
        "    cvpreds = cvbooster['cvbooster'].predict(test_data)\n",
        "    preds.append(np.mean(cvpreds, axis=0))"
      ]
    },
    {
      "cell_type": "markdown",
      "source": [
        "最後に、すべての予測値を 1 つの DataFrame にまとめ、`submission.csv` に保存します。"
      ],
      "metadata": {
        "id": "reZ0igtQMXOO"
      }
    },
    {
      "cell_type": "code",
      "execution_count": null,
      "metadata": {
        "id": "CNI_mQn1DrZg"
      },
      "outputs": [],
      "source": [
        "submission = pd.DataFrame(\n",
        "    data=np.array([\n",
        "        np.concatenate(test_ids),\n",
        "        np.concatenate(preds),\n",
        "    ]).T,\n",
        "    columns=['test_id', 'price']\n",
        ").astype({'test_id': np.int32})\n",
        "submission.to_csv('submission.csv', index=False)"
      ]
    },
    {
      "cell_type": "markdown",
      "source": [
        "### <font color='#9271C3'>Kaggleへのアップロード</font>\n",
        "\n",
        "このコンペティションは「カーネルコンペティション」であり、参加者は通常テストデータ全体を見ることはなく、データファイルの代わりにコードファイルを提出します。しかし、コンペティション終了後に全テストデータが公開されたため、半自動化されたアプローチで予測を提出することができます。\n",
        "\n",
        "まず、Kaggle API を使用してユーザー用のプライベートデータセットを作成し、アップロードします。その後このセルを実行するとデータセットが更新される。\n",
        "\n",
        "Kaggle API はあなたのデータセットへのリンクを出力します。それをクリックしてデータセットにアクセスし、正常に作成されたことを確認してください。"
      ],
      "metadata": {
        "id": "fG525n1dNuag"
      }
    },
    {
      "cell_type": "code",
      "source": [
        "%%bash\n",
        "dataset_name=\"mercari-project-dataset-$KAGGLE_USERNAME\"\n",
        "dataset_dir=\"/content/kaggle/$dataset_name\"\n",
        "dataset_meta_path=\"$dataset_dir/dataset-metadata.json\"\n",
        "mkdir -p \"$dataset_dir\"\n",
        "cp submission.csv \"$dataset_dir\"\n",
        "kaggle datasets init -p \"$dataset_dir\"\n",
        "sed -i \"s/INSERT_TITLE_HERE/$dataset_name/g\" \"$dataset_meta_path\"\n",
        "sed -i \"s/INSERT_SLUG_HERE/$dataset_name/g\" \"$dataset_meta_path\"\n",
        "dataset_exists=$(kaggle datasets list -m -s \"$dataset_name\" | grep \"$dataset_name\")\n",
        "dataset_exists=$?\n",
        "if [ $dataset_exists -eq \"0\" ]\n",
        "then\n",
        "    echo \"データセットの更新\"\n",
        "    kaggle datasets version -p \"$dataset_dir\" -m \"バージョンメッセージ\"\n",
        "else\n",
        "    echo \"データセットの作成\"\n",
        "    kaggle datasets create -p \"$dataset_dir\"\n",
        "fi"
      ],
      "metadata": {
        "id": "eiN-Vc9lNjHe"
      },
      "execution_count": null,
      "outputs": []
    },
    {
      "cell_type": "markdown",
      "source": [
        "以下の手順を手動で行う必要がある：\n",
        "\n",
        "1. 予測データを送信するカーネルを作成する。\n",
        "2. データセットをリンクする\n",
        "3. カーネルを修正し、コンペティションに提出する。\n",
        "4. アップデート\n",
        "\n",
        "以下の画像を参考にしてください。"
      ],
      "metadata": {
        "id": "7Ml8RuP9QDrl"
      }
    },
    {
      "cell_type": "markdown",
      "source": [
        "#### ステップ1：予測データを投稿するためのカーネルを作成する。\n",
        "\n",
        "[競技会提出ページ](https://www.kaggle.com/competitions/mercari-price-suggestion-challenge/submissions)にアクセスする。\n",
        "\n",
        "「Late Submission」をクリックする。\n",
        "<img src=\"https://github.com/yamada-kd/dxi-kaggle/blob/main/image/kaggle-problem-2-01.png?raw=1\"/>\n"
      ],
      "metadata": {
        "id": "Muw86HuRcksF"
      }
    },
    {
      "cell_type": "markdown",
      "source": [
        "「New Notebook」をクリックする。\n",
        "\n",
        "<img src=\"https://github.com/yamada-kd/dxi-kaggle/blob/main/image/kaggle-problem-2-02.png?raw=1\"/>"
      ],
      "metadata": {
        "id": "PfMkXQx8fczd"
      }
    },
    {
      "cell_type": "markdown",
      "source": [
        "新しいタブが開き、新しく作成されたノートブックが表示されます。ノートブックにはKaggleによって生成された名前とテンプレートコードが表示されます。ノートブックの名前をもっと分かりやすいものに変更することをお勧めしますが、そのままでも問題ありません。"
      ],
      "metadata": {
        "id": "SpZDXFMBiRmN"
      }
    },
    {
      "cell_type": "markdown",
      "source": [
        "#### ステップ 2: データセットをリンクする\n",
        "\n",
        "「Add Data」をクリックする。\n",
        "\n",
        "<img src=\"https://github.com/yamada-kd/dxi-kaggle/blob/main/image/kaggle-problem-2-03.png?raw=1\"/>\n"
      ],
      "metadata": {
        "id": "C02VA7GkgdKJ"
      }
    },
    {
      "cell_type": "markdown",
      "source": [
        "データセットのタイトルは `mercari-project-dataset-KAGGLE_USERNAME` のようになります。データセットの名前がわからない場合は、データセットがKaggleにアップロードされたこのセクションの最初に行き、データセットへのリンクをクリックしてください。\n",
        "\n",
        "あなたのデータセットが検索結果の一番上にあるかもしれませんが、そうでない場合は「Your Datasets」をクリックして探してください。\n",
        "\n",
        "まず、データセットの横にある 「+」をクリックしてノートブックに追加します。\n",
        "それから、「X」をクリックして、「Add Data」タブを閉じる。\n",
        "\n",
        "<img src=\"https://github.com/yamada-kd/dxi-kaggle/blob/main/image/kaggle-problem-2-04.png?raw=1\"/>\n"
      ],
      "metadata": {
        "id": "PSg5fqXQkpbh"
      }
    },
    {
      "cell_type": "markdown",
      "source": [
        "「Input」セクションにデータセットが表示されていることを確認する。\n",
        "\n",
        "<img src=\"https://github.com/yamada-kd/dxi-kaggle/blob/main/image/kaggle-problem-2-05.png?raw=1\"/>\n"
      ],
      "metadata": {
        "id": "zGkSzNgllwqt"
      }
    },
    {
      "cell_type": "markdown",
      "source": [
        "#### ステップ3：カーネルを修正して大会に提出する\n",
        "\n",
        "以下のセルを実行してください。競技カーネルで使われる2行のパイソンコードが出力されます。このコードは、このノートブックで以前に作成したカスタムデータセットから投稿ファイルをコピーしているだけです。このファイルはカーネルが実行されるディレクトリにコピーされ、そこで Kaggle は `submission.csv` という名前のファイルを検索します。"
      ],
      "metadata": {
        "id": "bvpVVC1SmT1K"
      }
    },
    {
      "cell_type": "code",
      "source": [
        "%%bash\n",
        "dataset_name=\"mercari-project-dataset-$KAGGLE_USERNAME\"\n",
        "echo \"import shutil\"\n",
        "echo \"shutil.copy('/kaggle/input/$dataset_name/submission.csv', 'submission.csv')\""
      ],
      "metadata": {
        "id": "-nGh8QHGsSeS"
      },
      "execution_count": null,
      "outputs": []
    },
    {
      "cell_type": "markdown",
      "source": [
        "コードをコピーし、大会ノートブックに貼り付ける。\n",
        "\n",
        "次に「Submit」をクリックする。\n",
        "\n",
        "<img src=\"https://github.com/yamada-kd/dxi-kaggle/blob/main/image/kaggle-problem-2-06.png?raw=1\"/>\n"
      ],
      "metadata": {
        "id": "fxeWeF7Aya92"
      }
    },
    {
      "cell_type": "markdown",
      "source": [
        "これはKaggleが予測を採点する前の最後のステップです。複数の投稿を区別しやすくするために、バージョン名と説明を追加することをお勧めします。\n",
        "\n",
        "「Submit」をクリックする。\n",
        "\n",
        "<img src=\"https://github.com/yamada-kd/dxi-kaggle/blob/main/image/kaggle-problem-2-07.png?raw=1\"/>\n"
      ],
      "metadata": {
        "id": "PJLLlWxUzKIw"
      }
    },
    {
      "cell_type": "markdown",
      "source": [
        "これであなたの予想は提出され、Kaggleによって採点されます。\n",
        "\n",
        "スコアは[コンペティションの提出ページ](https://www.kaggle.com/competitions/mercari-price-suggestion-challenge/submissions)で見ることができます。\n",
        "\n",
        "注意: この方法でノートブックを提出すると、Kaggleはまずエラーが発生しないことを確認するためにノートブックを実行します。正常に実行されると、Kaggleはノートブックを再実行し、出力を採点します。このため、スコアが表示されるまでに1分ほど時間がかかる場合があります。"
      ],
      "metadata": {
        "id": "CAvM7ZA0z7fN"
      }
    },
    {
      "cell_type": "markdown",
      "source": [
        "#### ステップ 4: 更新\n",
        "\n",
        "モデルを変更し、予測値を再採点したい場合は、データセットとコンペノートブックを更新する必要があります。\n",
        "\n",
        "まず、「Kaggleへのアップロード」セクションに行き、最初のセルを実行してデータセットを更新します。このステップは完全に自動化されており、他にやることはありません。\n",
        "\n",
        "次に、カーネルが使用しているデータセットを更新し、古いデータを送信しないようにします。\n",
        "\n",
        "[コンペティションの投稿ページ](https://www.kaggle.com/competitions/mercari-price-suggestion-challenge/submissions)の最新の投稿をクリックしてノートブックに戻る。\n",
        "\n",
        "<img src=\"https://github.com/yamada-kd/dxi-kaggle/blob/main/image/kaggle-problem-2-08.png?raw=1\"/>\n"
      ],
      "metadata": {
        "id": "dFlCNX9c057q"
      }
    },
    {
      "cell_type": "markdown",
      "source": [
        "「Edit」をクリックする。\n",
        "\n",
        "<img src=\"https://github.com/yamada-kd/dxi-kaggle/blob/main/image/kaggle-problem-2-09.png?raw=1\"/>\n"
      ],
      "metadata": {
        "id": "zopOgdDN4HtC"
      }
    },
    {
      "cell_type": "markdown",
      "source": [
        "ノートブックが表示されます。\n",
        "\n",
        "データセットの名前にカーソルを合わせると、縦に3つの点が現れます。点をクリックしてください。\n",
        "\n",
        "<img src=\"https://github.com/yamada-kd/dxi-kaggle/blob/main/image/kaggle-problem-2-10.png?raw=1\"/>\n"
      ],
      "metadata": {
        "id": "c5e2A5bx4L52"
      }
    },
    {
      "cell_type": "markdown",
      "source": [
        "「Check for updates」をクリックする。\n",
        "\n",
        "<img src=\"https://github.com/yamada-kd/dxi-kaggle/blob/main/image/kaggle-problem-2-11.png?raw=1\"/>"
      ],
      "metadata": {
        "id": "Mzz921g05PwC"
      }
    },
    {
      "cell_type": "markdown",
      "source": [
        "「Update」をクリックする。\n",
        "\n",
        "<img src=\"https://github.com/yamada-kd/dxi-kaggle/blob/main/image/kaggle-problem-2-12.png?raw=1\"/>"
      ],
      "metadata": {
        "id": "nZCt1dgM5V7J"
      }
    },
    {
      "cell_type": "markdown",
      "source": [
        "ノートブックで使用しているデータセットが最新版に更新されます。新しいバージョンを提出するには、「Submit」ボタンを押して、ステップ3と同じように指示に従ってください。"
      ],
      "metadata": {
        "id": "HxAyiLhC5rbs"
      }
    },
    {
      "cell_type": "markdown",
      "metadata": {
        "id": "cIcLceBRoLIz"
      },
      "source": [
        "## <font color='#3E1485'>**提案**</font>\n",
        "\n",
        "**メモリ使用率** - 一般的に、学習済みモデルがテストデータセット上でどのように動作するかにのみ関心があります。しかし、学習プロセスを評価することも良いアイデアです。この場合、ワンホットエンコーディングはカテゴリー数が多いため、データサイズが大幅に増加します。エラーのないモデルを訓練するために、我々はデータのかなりの部分を破棄することを選択したが、これは一般的に良いアイデアではない。代替案としては、より強力なシステムをトレーニングに使用することが考えられますが、これはデータセットによっては現実的ではありません。\n",
        "\n",
        "そのため、通常はスコアを最小化（または最大化）したいと考えますが、より少ない特徴量や少ない計算リソースで同じスコアを達成することも価値のある努力です。\n",
        "\n",
        "**自然言語処理(NLP)技術** - 我々はアイテムの名前と説明フィールドから多くの情報を抽出しませんでしたが、これらのフィールドはおそらく最も重要な情報を含んでいます。実際、このコンペティションの入賞ソリューションは、[scikit-learn](https://scikit-learn.org/stable/modules/generated/sklearn.feature_extraction.text.TfidfVectorizer.html)で実装されている[TF-IDF](https://ja.wikipedia.org/wiki/Tf-idf)と呼ばれる手法を使用しています。このノートブックにTF-IDFを追加するのは比較的簡単で、スコアの大幅な向上が期待できるはずです。\n",
        "\n",
        "コンペティションの時点では、ディープラーニングベースの言語モデルは現在ほど容易に利用できるものではありませんでした。これらのモデルは、おそらく最小限の前処理で高いスコアを達成できるだろう。"
      ]
    },
    {
      "cell_type": "code",
      "source": [],
      "metadata": {
        "id": "JdMPUi9K_Mp_"
      },
      "execution_count": null,
      "outputs": []
    }
  ],
  "metadata": {
    "colab": {
      "provenance": [],
      "toc_visible": true
    },
    "kernelspec": {
      "display_name": "Python 3",
      "name": "python3"
    },
    "language_info": {
      "name": "python"
    }
  },
  "nbformat": 4,
  "nbformat_minor": 0
}