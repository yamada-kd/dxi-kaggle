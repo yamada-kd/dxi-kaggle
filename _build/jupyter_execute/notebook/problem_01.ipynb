{
 "cells": [
  {
   "cell_type": "markdown",
   "metadata": {
    "id": "cEQjSetMZKaY"
   },
   "source": [
    "# 問題1：売上予測\n"
   ]
  },
  {
   "cell_type": "markdown",
   "metadata": {
    "id": "chDStc-EaEbe"
   },
   "source": [
    "## <font color='#3E1485'>**M5 Forecasting - Accuracy Competition**</font>\n"
   ]
  },
  {
   "cell_type": "markdown",
   "metadata": {
    "id": "06we1GjmZLzX"
   },
   "source": [
    "### <font color='#9271C3'>背景</font>\n",
    "\n",
    "ウォルマートは米国最大級のスーパーマーケットである。同社が直面する主な課題の1つは、どの商品を、いつ、どのくらいの量仕入れるかを決定することである。間違った商品を仕入れると、潜在的な売上を逃し、在庫コストの増加につながる。\n",
    "\n",
    "青果物のような特定の商品の需要は、収穫期やその商品の供給量と連動している場合がある。そのような商品の場合、供給が徐々に変化するにつれて、需要もスムーズに変化することが期待できる。しかし、他の商品では同じ傾向は見られず、休日や文化的行事によって需要が急激に変化することもある。商品需要の傾向を把握し予測することは、スーパーマーケットが適切な量の商品を仕入れ、損失を最小限に抑えながら利益を最大化するのに役立つ。"
   ]
  },
  {
   "cell_type": "markdown",
   "metadata": {
    "id": "MXeRyp6HZYea"
   },
   "source": [
    "### <font color='#9271C3'>タスク</font>\n",
    "\n",
    "ウォルマートのスーパーマーケットにおける様々な品目の過去の売上データが与えられたとき、個々の店舗における来月の売上を予測しなさい。"
   ]
  },
  {
   "cell_type": "markdown",
   "metadata": {
    "id": "Wv-j15kLZk5a"
   },
   "source": [
    "### <font color='#9271C3'>データ</font>\n",
    "\n",
    "* `calendar.csv` - 商品が販売される日付に関する情報を含む。\n",
    "* `sample_submission.csv` - 投稿用の正しいフォーマット。\n",
    "* `sell_prices.csv` - 各店舗で販売された商品の価格と日付に関する情報が含まれている。\n",
    "* `sales_train_evaluation.csv` - [d_1 - d_1941]` 日間における、各商品と各店舗の過去の日次販売個数データを格納。\n",
    "* `sales_train_validation.csv` - [d_1 - d_1913]`日の各商品と店舗の過去の日次販売台数データを含む。**このファイルは使用しないでください。\n",
    "\n",
    "\\* 当初のコンペティションは2つのステージで構成されていた。第1ステージでは、1日目から1913日目までのデータが発表され、1914日目から1941日目までの予測に基づいて得点が決定された。第 2 段階では、1914 年～1941 年の日数のデータが発表され、1942 年～1969 年の日数の予測に基づ いて得点が決定された。ここでは簡単のため、`sales_train_evaluation.csv`のみを使用して、このコンペティションのセカンドステージをシミュレートする。"
   ]
  },
  {
   "cell_type": "markdown",
   "metadata": {
    "id": "zynlnchtaPkq"
   },
   "source": [
    "### <font color='#9271C3'>お役立ちリンク集</font>\n",
    "\n",
    "[コンペHP](https://www.kaggle.com/c/m5-forecasting-accuracy)\n",
    "\n",
    "[Kaggleコードリソース（日本語）](https://www.kaggle.com/competitions/m5-forecasting-accuracy/code?competitionId=18599&sortBy=voteCount&searchQuery=%E6%97%A5%E6%9C%AC%E8%AA%9E)\n",
    "\n",
    "[主催者からの情報（英語）](https://mofc.unic.ac.cy/m5-competition/)\n",
    "\n",
    "[1位解答](https://www.kaggle.com/competitions/m5-forecasting-accuracy/discussion/163684)\n",
    "\n",
    "[2位解答](https://www.kaggle.com/competitions/m5-forecasting-accuracy/discussion/164599)\n",
    "\n",
    "[3位解答](https://www.kaggle.com/competitions/m5-forecasting-accuracy/discussion/164374)"
   ]
  },
  {
   "cell_type": "markdown",
   "metadata": {
    "id": "gUXvcNqdaZhb"
   },
   "source": [
    "## <font color='#3E1485'>**セットアップ**</font>\n",
    "\n",
    "以下のセルは必要なデータをダウンロードし、ノートブックで使用する環境を設定します。"
   ]
  },
  {
   "cell_type": "markdown",
   "metadata": {
    "id": "TFjLu8TCakQL"
   },
   "source": [
    "### <font color='#9271C3'>データセットをダウンロードする</font>\n",
    "\n",
    "Kaggleはコンペティションと簡単にやり取りできるAPIを提供しています。私たちはこのAPIを使って自動的にデータをダウンロードし、予測をアップロードします。\n",
    "\n",
    "このAPIを使用する最初のステップは、自分のユーザーとして認証することです。APIトークンはユーザー名とKaggleが生成したキーを含むファイルです。トークンはアカウントページからダウンロードすることができ、通常 `kaggle.json` と呼ばれます。APIトークンは、あなたのユーザーとしてAPIにアクセスするために必要なものなので、個人のGoogle Driveフォルダに安全に保管してください。\n",
    "\n",
    "このノートブックはGoogle Driveフォルダ内の`kaggle.json`というKaggle APIトークンを検索します。トークンをGoogle Driveに置いたことを確認し、プロンプトが表示されたらこのノートブックがトークンにアクセスすることを許可してください。\n",
    "\n",
    "認証後、参加したすべてのコンペティションにアクセスできます。データのダウンロードにエラーが発生した場合は、Kaggle API トークンが有効であること、コンペティションのルールに同意していることを確認してください。"
   ]
  },
  {
   "cell_type": "code",
   "execution_count": null,
   "metadata": {
    "id": "_NgMx7oeZLAf"
   },
   "outputs": [],
   "source": [
    "from google.colab import drive\n",
    "import os\n",
    "import json\n",
    "\n",
    "drive.mount(\"/content/drive\", force_remount=True)\n",
    "fin = open(\"/content/drive/MyDrive/kaggle.json\", \"r\")\n",
    "json_data = json.load(fin)\n",
    "fin.close()\n",
    "os.environ[\"KAGGLE_USERNAME\"] = json_data[\"username\"]\n",
    "os.environ[\"KAGGLE_KEY\"] = json_data[\"key\"]"
   ]
  },
  {
   "cell_type": "code",
   "execution_count": null,
   "metadata": {
    "id": "wbVqKT6Ua8Rb"
   },
   "outputs": [],
   "source": [
    "%%bash\n",
    "kaggle competitions download -c m5-forecasting-accuracy --force\n",
    "if [ $? -ne 0 ]; then\n",
    "    echo \"データのダウンロードに問題があったようです。\"\n",
    "    echo \"競技規則に同意し、APIキーが有効であることを確認してください。\"\n",
    "else\n",
    "    mkdir -p /content/kaggle\n",
    "    unzip -o /content/m5-forecasting-accuracy.zip -d /content/kaggle\n",
    "fi\n",
    "wget -q -P /tmp https://noto-website-2.storage.googleapis.com/pkgs/NotoSansCJKjp-hinted.zip\n",
    "unzip -u /tmp/NotoSansCJKjp-hinted.zip -d /usr/share/fonts/NotoSansCJKjp"
   ]
  },
  {
   "cell_type": "markdown",
   "metadata": {
    "id": "FTMP86Z-dhnJ"
   },
   "source": [
    "### <font color='#9271C3'>計算環境</font>"
   ]
  },
  {
   "cell_type": "code",
   "execution_count": null,
   "metadata": {
    "id": "DZCkOn4udoBo"
   },
   "outputs": [],
   "source": [
    "import pandas as pd\n",
    "import numpy as np\n",
    "import matplotlib\n",
    "import matplotlib.pyplot as plt\n",
    "import seaborn as sns\n",
    "from statsmodels.tsa.seasonal import STL\n",
    "from statsmodels.tsa.arima.model import ARIMA\n",
    "from statsmodels.tsa.forecasting.stl import STLForecast\n",
    "\n",
    "font_path = '/usr/share/fonts/NotoSansCJKjp/NotoSansMonoCJKjp-Regular.otf'\n",
    "matplotlib.font_manager.fontManager.addfont(font_path)\n",
    "prop = matplotlib.font_manager.FontProperties(fname=font_path)\n",
    "plt.rcParams['font.family'] = 'sans-serif'\n",
    "plt.rcParams['font.sans-serif'] = prop.get_name()\n",
    "os.chdir('/content/kaggle')"
   ]
  },
  {
   "cell_type": "markdown",
   "metadata": {
    "id": "KG7ZwWPedzo_"
   },
   "source": [
    "## <font color='#3E1485'>**視覚化**</font>\n",
    "\n",
    "いくつかの異なるファイルがあるので、視覚化は各ファイルにどのような種類のデータがあるのかを知るのに特に役立つでしょう。"
   ]
  },
  {
   "cell_type": "markdown",
   "metadata": {
    "id": "y1E8IJITd6ux"
   },
   "source": [
    "### <font color='#9271C3'>sales_train_evaluation.csv</font>"
   ]
  },
  {
   "cell_type": "code",
   "execution_count": null,
   "metadata": {
    "id": "UwnRILA4d2lQ"
   },
   "outputs": [],
   "source": [
    "sales = pd.read_csv('sales_train_evaluation.csv')\n",
    "sales.sample(10)"
   ]
  },
  {
   "cell_type": "markdown",
   "metadata": {
    "id": "jxJkWnr_eDxo"
   },
   "source": [
    "このファイルには `item_id` で指定されたアイテムの販売履歴が含まれる。アイテムには関連する部門とカテゴリが `dept_id` と `cat_id` に格納されている。さらに、場所に関する情報が `state_id` に、特定の店舗に関する情報が `store_id` に格納されている。残りの `d_x` というパターンにマッチする列は、`x` 日の売上数を示している。データは 2011-01-29 から始まるので、`d_1` には2011-01-29の売上が格納される。"
   ]
  },
  {
   "cell_type": "markdown",
   "metadata": {
    "id": "EQiu-mPweJc4"
   },
   "source": [
    "トレーニングデータは3つのカテゴリーに大別される：\n",
    "- 食べ物\n",
    "- 趣味\n",
    "- 家庭用品\n",
    "\n",
    "以下のプロットは、ほとんどの売上が食品であることを示している。"
   ]
  },
  {
   "cell_type": "code",
   "execution_count": null,
   "metadata": {
    "id": "Hgdvd2gleFMA"
   },
   "outputs": [],
   "source": [
    "total_sales = sales.copy()\n",
    "day_cols = [col for col in sales.columns if col.startswith('d_')]\n",
    "total_sales['total'] = total_sales[day_cols].sum(axis=1)\n",
    "total_sales = total_sales.groupby('cat_id', as_index=False).agg({'total': 'sum'})\n",
    "ax = sns.barplot(total_sales, x='cat_id', y='total');"
   ]
  },
  {
   "cell_type": "markdown",
   "metadata": {
    "id": "Vw8mWglWeb_A"
   },
   "source": [
    "これは時系列データであり、我々の予測は予測であるため、データが時間とともにどのように変化するかを意識する必要がある。"
   ]
  },
  {
   "cell_type": "code",
   "execution_count": null,
   "metadata": {
    "id": "iKn6cvtkeczR"
   },
   "outputs": [],
   "source": [
    "sales_long = sales.groupby('cat_id', as_index=False).agg({col: 'sum' for col in day_cols})\n",
    "sales_long = sales_long.melt(id_vars=['cat_id'], var_name='day', value_name='sales')\n",
    "sales_long['day'] = sales_long['day'].str.replace('d_', '').astype(int)\n",
    "ax = sns.lineplot(sales_long, x='day', y='sales', hue='cat_id')\n",
    "ax.grid()\n",
    "ax.legend();"
   ]
  },
  {
   "cell_type": "markdown",
   "metadata": {
    "id": "K-kDNlR5eknR"
   },
   "source": [
    "この図を見ると、すべての売上高はおおむね増加しているが、売上高が停滞、あるいは減少している時期もある。"
   ]
  },
  {
   "cell_type": "markdown",
   "metadata": {
    "id": "7Z2TVxD2erQR"
   },
   "source": [
    "時系列を分析するための一般的な手法のひとつに、トレンドと季節的要素でデータをモデル化する分解がある。このデータでは、トレンドは明らかに上向きだが、売上高の変動も見られる。これらの変動は、周期的、あるいは季節的な何らかの行動によるものかもしれない。\n",
    "\n",
    "分解を行うには、`statsmodels` パッケージを使用します。"
   ]
  },
  {
   "cell_type": "code",
   "execution_count": null,
   "metadata": {
    "id": "I3xqRoOKesOA"
   },
   "outputs": [],
   "source": [
    "sales_long = sales.groupby('cat_id', as_index=False).agg({col: 'sum' for col in day_cols})\n",
    "sales_long = sales_long.melt(id_vars=['cat_id'], var_name='day', value_name='sales')\n",
    "sales_long['day'] = sales_long['day'].str.replace('d_', '').astype(int)\n",
    "sales_long = sales_long.pivot(index='day', columns='cat_id', values='sales')\n",
    "sales_long = sales_long.sort_index()\n",
    "sales_long = sales_long.set_index(pd.to_datetime(pd.read_csv('calendar.csv')['date'].values[:1941]))\n",
    "sales_long = sales_long[sales_long.index.year==2012]\n",
    "stl = STL(sales_long['FOODS'], period=30)\n",
    "res = stl.fit()\n",
    "ax = res.plot()\n",
    "fig = ax.get_figure()\n",
    "fig.set_size_inches(14, 7)\n",
    "ax.tight_layout()"
   ]
  },
  {
   "cell_type": "markdown",
   "metadata": {
    "id": "3SuaajH8ez9Z"
   },
   "source": [
    "上の図は、季節期間を30日に設定した2012年の`FOODS`の分解である。トレンドと季節を分けることで、それぞれが元のデータにどのように寄与しているかを明確に見ることができる。1つの観察点は、シーズンの初め、つまりこの場合は月の初めに、売上が一般的に高くなることである。"
   ]
  },
  {
   "cell_type": "markdown",
   "metadata": {
    "id": "1yX2BvQle4g5"
   },
   "source": [
    "### <font color='#9271C3'>calendar.csv</font>"
   ]
  },
  {
   "cell_type": "code",
   "execution_count": null,
   "metadata": {
    "id": "Zr3QdCDMe1ES"
   },
   "outputs": [],
   "source": [
    "calendar = pd.read_csv('calendar.csv')\n",
    "calendar"
   ]
  },
  {
   "cell_type": "markdown",
   "metadata": {
    "id": "gOVrLFNhe_96"
   },
   "source": [
    "このファイルにはデータセットの各日に関する情報が含まれており、 `d_1` のような日を `2011-01-29` のような実際の日付に変換するのに使うことができる。データセットの開始日と終了日は1年単位で揃っていないことに注意しよう。これを下図に示す。"
   ]
  },
  {
   "cell_type": "code",
   "execution_count": null,
   "metadata": {
    "id": "7jfLH13ffBMi"
   },
   "outputs": [],
   "source": [
    "sns.catplot(data=calendar, x='year', kind='count', color='tab:blue');"
   ]
  },
  {
   "cell_type": "markdown",
   "metadata": {
    "id": "1K30XhJ-fIL5"
   },
   "source": [
    "このファイルには、特別なイベントに関する情報も含まれている。特別なイベントは比較的頻繁に発生しないが、売上に影響を与える可能性がある。"
   ]
  },
  {
   "cell_type": "code",
   "execution_count": null,
   "metadata": {
    "id": "NnrvgVJrfHlB"
   },
   "outputs": [],
   "source": [
    "event_idx = calendar['event_name_1'].notna() | calendar['event_name_2'].notna()\n",
    "n_events = event_idx.sum()\n",
    "plt.bar(['イベントない日', 'イベントある日'], [calendar.shape[0] - n_events, n_events])"
   ]
  },
  {
   "cell_type": "markdown",
   "metadata": {
    "id": "jTNHSsnufU2J"
   },
   "source": [
    "### <font color='#9271C3'>sell_prices.csv</font>"
   ]
  },
  {
   "cell_type": "code",
   "execution_count": null,
   "metadata": {
    "id": "eTxDkpMofXSx"
   },
   "outputs": [],
   "source": [
    "sell_prices = pd.read_csv('sell_prices.csv')\n",
    "sell_prices.head()"
   ]
  },
  {
   "cell_type": "markdown",
   "metadata": {
    "id": "t7K8-RhJfaby"
   },
   "source": [
    "このデータは、各店舗の様々な商品の価格を時系列で示したものである。価格は場所によって異なる場合があります。"
   ]
  },
  {
   "cell_type": "code",
   "execution_count": null,
   "metadata": {
    "id": "TRe2_I-yfivs"
   },
   "outputs": [],
   "source": [
    "wm_yr_wk_to_date = calendar[['wm_yr_wk', 'date']].groupby('wm_yr_wk').min()\n",
    "sell_prices_dt = sell_prices.groupby(['wm_yr_wk', 'item_id'], as_index=False)['sell_price'].agg('mean')\n",
    "sell_prices_dt = sell_prices_dt.merge(wm_yr_wk_to_date, how='inner', on='wm_yr_wk')\n",
    "sell_prices_dt['date'] = pd.to_datetime(sell_prices_dt['date'])\n",
    "\n",
    "ax = sns.lineplot(sell_prices_dt[sell_prices_dt['item_id']=='FOODS_1_001'], x='date', y='sell_price', errorbar=None, label='FOODS_1_001')\n",
    "ax = sns.lineplot(sell_prices_dt[sell_prices_dt['item_id']=='HOUSEHOLD_1_001'], x='date', y='sell_price', errorbar=None, label='HOUSEHOLD_1_001')\n",
    "ax = sns.lineplot(sell_prices_dt[sell_prices_dt['item_id']=='HOBBIES_1_001'], x='date', y='sell_price', errorbar=None, label='HOBBIES_1_001')\n",
    "ax.legend()\n",
    "ax.figure.autofmt_xdate()"
   ]
  },
  {
   "cell_type": "markdown",
   "metadata": {
    "id": "R0OyY0pyflvq"
   },
   "source": [
    "この図では3つの商品の価格を示している。一時的な売れ行きを示すと思われる、小規模で短期的な価格下落が見られる。また、長期的な価格の変化も見られるが、これは市場の需要や生産コストに対するメーカーの対応と考えられる。"
   ]
  },
  {
   "cell_type": "markdown",
   "metadata": {
    "id": "0HMyeiIlfscy"
   },
   "source": [
    "## <font color='#3E1485'>**モデリング**</font>"
   ]
  },
  {
   "cell_type": "markdown",
   "metadata": {
    "id": "hN7DgCeKf9Zm"
   },
   "source": [
    "### <font color='#9271C3'>分解と予測</font>\n",
    "\n",
    "将来の売上を予測するために、上で紹介した時系列分解テクニックと、時系列予測によく使われるモデルであるARIMAモデルを組み合わせます。\n",
    "\n",
    "単純なベースラインモデルとして、カテゴリーごとに全国的な売上高を予測する。このモデルは特定の商品の動向を無視し、立地も考慮しないため、あまり良いスコアは得られないかもしれません。"
   ]
  },
  {
   "cell_type": "code",
   "execution_count": null,
   "metadata": {
    "id": "hxxcx73Bf2lo"
   },
   "outputs": [],
   "source": [
    "sales_modeling = sales.groupby('cat_id', as_index=False).agg({col: 'sum' for col in sales.columns if col.startswith('d_')})\n",
    "sales_modeling = sales_modeling.melt(id_vars=['cat_id'], var_name='day', value_name='sales')\n",
    "sales_modeling['day'] = sales_modeling['day'].str.replace('d_', '').astype(int)\n",
    "sales_modeling = sales_modeling.pivot(index='day', columns='cat_id', values='sales')\n",
    "sales_modeling = sales_modeling.sort_index()\n",
    "sales_modeling = sales_modeling.set_index(pd.to_datetime(pd.read_csv('calendar.csv')['date'].values[:1941]))\n",
    "sales_modeling.index.freq = 'D'\n",
    "\n",
    "forecast = {}\n",
    "for cat_id in sales['cat_id'].unique():\n",
    "    stlf = STLForecast(sales_modeling[cat_id], ARIMA, model_kwargs=dict(order=(1, 1, 0), trend=\"t\"), period=30)\n",
    "    stlf_res = stlf.fit()\n",
    "    forecast[cat_id] = stlf_res.forecast(28)"
   ]
  },
  {
   "cell_type": "code",
   "execution_count": null,
   "metadata": {
    "id": "QpaKTV0UgBfc"
   },
   "outputs": [],
   "source": [
    "fig, ax = plt.subplots()\n",
    "for i, cat_id in enumerate(sales_modeling.columns):\n",
    "  cmap = matplotlib.color_sequences['tab10']\n",
    "  ax.plot(sales_modeling[cat_id].iloc[-100:].index, sales_modeling[cat_id].iloc[-100:].values, color=cmap[i], label=cat_id)\n",
    "  ax.plot(forecast[cat_id].iloc[-100:].index, forecast[cat_id].iloc[-100:].values, color=cmap[i], linestyle='dashed', label=f'{cat_id}予測')\n",
    "  ax.figure.autofmt_xdate()\n",
    "  ax.legend(ncols=3)"
   ]
  },
  {
   "cell_type": "markdown",
   "metadata": {
    "id": "OK14SAcAgHMC"
   },
   "source": [
    "最後に、提出ファイルを作成し、そこに予測値を記入します。総売上高を予測するので、各店舗の平均売上高を得るために店舗数で割らなければなりません。"
   ]
  },
  {
   "cell_type": "code",
   "execution_count": null,
   "metadata": {
    "id": "RWtG_VqjgL3r"
   },
   "outputs": [],
   "source": [
    "def extract_cat_id(string):\n",
    "    return string.split('_')[0]\n",
    "\n",
    "def extract_split(string):\n",
    "    return string.split('_')[-1]"
   ]
  },
  {
   "cell_type": "code",
   "execution_count": null,
   "metadata": {
    "id": "rYRMMYDTgMAV"
   },
   "outputs": [],
   "source": [
    "submission = pd.read_csv('sample_submission.csv')\n",
    "submission['cat_id'] = submission['id'].apply(extract_cat_id)\n",
    "submission['split'] = submission['id'].apply(extract_split)\n",
    "\n",
    "# fill validation with correct data\n",
    "validation_idx = submission['id'].str.endswith('validation')\n",
    "forecast_cols = [f'F{i}' for i in range(1, 29)]\n",
    "d_1914_1941_cols = [f'd_{i}' for i in range(1914, 1942)]\n",
    "submission.loc[validation_idx, forecast_cols] = sales.loc[submission.loc[validation_idx].index, d_1914_1941_cols].values\n",
    "\n",
    "# fill evaluation with forecasted data\n",
    "evaluation_idx = submission['id'].str.endswith('evaluation')\n",
    "for cat_id, forecasted_sales in forecast.items():\n",
    "    cat_idx = submission['cat_id'] == cat_id\n",
    "    num_stores = sum(evaluation_idx & cat_idx)\n",
    "    submission.loc[(evaluation_idx & cat_idx), forecast_cols] = (forecasted_sales / num_stores).values\n",
    "submission.drop(columns=['cat_id', 'split']).to_csv('submission.csv', index=False)\n",
    "submission"
   ]
  },
  {
   "cell_type": "markdown",
   "metadata": {
    "id": "9ZROHvOogWaE"
   },
   "source": [
    "### <font color='#9271C3'>Kaggleへのアップロード</font>\n",
    "\n",
    "予測はKaggleのAPIを通して直接提出されるため、ファイルを手動でダウンロードし、Kaggleのウェブサイトに再アップロードする必要はありません。"
   ]
  },
  {
   "cell_type": "code",
   "execution_count": null,
   "metadata": {
    "id": "0eiUOOlkgcGc"
   },
   "outputs": [],
   "source": [
    "!kaggle competitions submit -c m5-forecasting-accuracy -f submission.csv -m \"これはアップロードに添付されたメッセージである。\""
   ]
  },
  {
   "cell_type": "markdown",
   "metadata": {
    "id": "VeCRxEPkLyOf"
   },
   "source": [
    "[提出ページ](https://www.kaggle.com/competitions/m5-forecasting-accuracy/submissions)でスコアを確認する。"
   ]
  },
  {
   "cell_type": "markdown",
   "metadata": {
    "id": "GHJuOo8hhEau"
   },
   "source": [
    "## <font color='#3E1485'>提案</font>\n",
    "\n",
    "**異なる季節性期間**：時系列分解の実験では、一般的に月の初めに売上が高くなることが示されました。時系列分解に週単位を使用することで、他の傾向を示す可能性がある。\n",
    "\n",
    "**店舗を個別にモデル化する**：このノートブックでは現在、各店舗の売上が同じであると仮定しています。ある店舗は他の店舗よりも一般的に売上が高い可能性が高い。\n",
    "\n",
    "**より複雑なモデル**：ここで使われているモデルは比較的単純です。LSTMやコンペティションの勝者が使ったモデルなど、他のタイプのモデルを使ってみてください。\n",
    "\n",
    "**追加データ**：現在のモデルは販売データしか使っていません。しかし、価格や休日などのデータもあり、予測を改善できるかもしれません。"
   ]
  },
  {
   "cell_type": "code",
   "execution_count": null,
   "metadata": {
    "id": "RB1r_hSuhC5l"
   },
   "outputs": [],
   "source": []
  }
 ],
 "metadata": {
  "colab": {
   "provenance": [],
   "toc_visible": true
  },
  "kernelspec": {
   "display_name": "Python 3",
   "name": "python3"
  },
  "language_info": {
   "name": "python"
  }
 },
 "nbformat": 4,
 "nbformat_minor": 0
}