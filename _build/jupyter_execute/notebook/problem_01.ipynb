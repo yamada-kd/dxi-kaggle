{
 "cells": [
  {
   "cell_type": "markdown",
   "metadata": {
    "id": "cEQjSetMZKaY"
   },
   "source": [
    "# 問題1：売上予測\n"
   ]
  },
  {
   "cell_type": "markdown",
   "metadata": {
    "id": "I2ljd0HoG77U"
   },
   "source": [
    "## 取り組む問題"
   ]
  },
  {
   "cell_type": "markdown",
   "metadata": {
    "id": "chDStc-EaEbe"
   },
   "source": [
    "[M5 Forecasting - Accuracy Competition](https://www.kaggle.com/c/m5-forecasting-accuracy)\n"
   ]
  },
  {
   "cell_type": "markdown",
   "metadata": {
    "id": "06we1GjmZLzX"
   },
   "source": [
    "### 背景\n",
    "\n",
    "ウォルマートはアメリカ最大のスーパーマーケットです．同社が直面する主な課題のひとつは，どの商品を，いつ，どのくらいの量仕入れるかを決定することです．間違った商品を仕入れると，潜在的な売上を逃し，在庫コストの増加につながります．\n",
    "\n",
    "青果物のような特定の商品の需要は，収穫期やその商品の供給量と連動している場合があります．そのような商品の場合，供給が徐々に変化するにつれて，需要もスムーズに変化することが期待できます．しかし，他の商品では同じ傾向は見られず，休日や行事によって需要が急激に変化することもあります．商品需要の傾向を把握し予測することは，スーパーマーケットが適切な量の商品を仕入れ，損失を最小限に抑えながら利益を最大化するのに役立ちます．"
   ]
  },
  {
   "cell_type": "markdown",
   "metadata": {
    "id": "MXeRyp6HZYea"
   },
   "source": [
    "### タスク\n",
    "\n",
    "ウォルマートの様々な品目に関する過去の売上データが与えられたとき，個々の店舗における次の月の売上を予測してください．"
   ]
  },
  {
   "cell_type": "markdown",
   "metadata": {
    "id": "Wv-j15kLZk5a"
   },
   "source": [
    "### データ\n",
    "\n",
    "* `calendar.csv` - 商品が販売される日付に関する情報．\n",
    "* `sample_submission.csv` - 投稿用の正しいフォーマット．\n",
    "* `sell_prices.csv` - 各店舗で販売された商品の価格と日付に関する情報．\n",
    "* `sales_train_evaluation.csv` - [d_1 - d_1941]` 日間における，各商品と各店舗の過去の日次販売個数データ．\n",
    "* `sales_train_validation.csv` - [d_1 - d_1913]`日の各商品と店舗の過去の日次販売台数データ．#このファイルは使用しないでください．\n",
    "\n",
    "当初のコンペティションは2つのステージで構成されていました．第1ステージでは，1日目から1913日目までのデータが発表され，1914日目から1941日目までの予測に基づいて得点が決定されました．第2段階では，1914～1941年の日数のデータが発表され，1942～1969年の日数の予測に基づいて得点が決定されました．ここでは簡単のため，`sales_train_evaluation.csv`のみを使用して，このコンペティションのセカンドステージに取り組みます．"
   ]
  },
  {
   "cell_type": "markdown",
   "metadata": {
    "id": "zynlnchtaPkq"
   },
   "source": [
    "### リンク集\n",
    "\n",
    "* [Kaggleコードリソース（日本語）](https://www.kaggle.com/competitions/m5-forecasting-accuracy/code?competitionId=18599&sortBy=voteCount&searchQuery=%E6%97%A5%E6%9C%AC%E8%AA%9E)\n",
    "* [主催者からの情報（英語）](https://mofc.unic.ac.cy/m5-competition/)\n",
    "* [1位の解答](https://www.kaggle.com/competitions/m5-forecasting-accuracy/discussion/163684)\n",
    "* [2位の解答](https://www.kaggle.com/competitions/m5-forecasting-accuracy/discussion/164599)\n",
    "* [3位の解答](https://www.kaggle.com/competitions/m5-forecasting-accuracy/discussion/164374)\n",
    "\n",
    "\n"
   ]
  },
  {
   "cell_type": "markdown",
   "metadata": {
    "id": "gUXvcNqdaZhb"
   },
   "source": [
    "## セットアップ\n",
    "\n",
    "以下のセルは必要なデータをダウンロードし，ノートブックで使用する環境を設定します．"
   ]
  },
  {
   "cell_type": "markdown",
   "metadata": {
    "id": "TFjLu8TCakQL"
   },
   "source": [
    "### データセット\n",
    "\n",
    "Kaggleはコンペティションと簡単にやり取りできるAPIを提供しています．このAPIを使って自動的にデータをダウンロードし，予測をアップロードします．\n",
    "\n",
    "このAPIを使用する最初のステップは，自分のユーザーとして認証することです．APIトークンはユーザー名とKaggleが生成したキーを含むファイルです．トークンはアカウントページからダウンロードすることができ，通常 `kaggle.json` と呼ばれます．APIトークンはユーザーとしてAPIにアクセスするために必要なものなので，個人のGoogle Driveフォルダに安全に保管してください．\n",
    "\n",
    "このノートブックはGoogle Driveフォルダ内の`kaggle.json`というKaggle APIトークンを検索します．トークンをGoogle Driveに置いたことを確認し，プロンプトが表示されたらこのノートブックがトークンにアクセスすることを許可してください．\n"
   ]
  },
  {
   "cell_type": "code",
   "execution_count": null,
   "metadata": {
    "id": "_NgMx7oeZLAf"
   },
   "outputs": [],
   "source": [
    "from google.colab import drive\n",
    "import os\n",
    "import json\n",
    "\n",
    "drive.mount(\"/content/drive\", force_remount=True)\n",
    "fin = open(\"/content/drive/MyDrive/kaggle.json\", \"r\")\n",
    "json_data = json.load(fin)\n",
    "fin.close()\n",
    "os.environ[\"KAGGLE_USERNAME\"] = json_data[\"username\"]\n",
    "os.environ[\"KAGGLE_KEY\"] = json_data[\"key\"]"
   ]
  },
  {
   "cell_type": "markdown",
   "metadata": {
    "id": "8r4i8qOGOawp"
   },
   "source": [
    "認証後，参加したすべてのコンペティションにアクセスできます．データのダウンロードにエラーが発生した場合は，Kaggle API トークンが有効であること，コンペティションのルールに同意していることを確認してください．"
   ]
  },
  {
   "cell_type": "code",
   "execution_count": null,
   "metadata": {
    "id": "wbVqKT6Ua8Rb"
   },
   "outputs": [],
   "source": [
    "%%bash\n",
    "kaggle competitions download -c m5-forecasting-accuracy --force\n",
    "if [ $? -ne 0 ]; then\n",
    "    echo \"データのダウンロードに問題があったようです．\"\n",
    "    echo \"競技規則に同意し，APIキーが有効であることを確認してください．\"\n",
    "else\n",
    "    mkdir -p /content/kaggle\n",
    "    unzip -o /content/m5-forecasting-accuracy.zip -d /content/kaggle\n",
    "fi\n",
    "wget -q -P /tmp https://noto-website-2.storage.googleapis.com/pkgs/NotoSansCJKjp-hinted.zip\n",
    "unzip -u /tmp/NotoSansCJKjp-hinted.zip -d /usr/share/fonts/NotoSansCJKjp"
   ]
  },
  {
   "cell_type": "markdown",
   "metadata": {
    "id": "FTMP86Z-dhnJ"
   },
   "source": [
    "### 計算環境"
   ]
  },
  {
   "cell_type": "code",
   "execution_count": null,
   "metadata": {
    "id": "DZCkOn4udoBo"
   },
   "outputs": [],
   "source": [
    "import pandas as pd\n",
    "import numpy as np\n",
    "import matplotlib\n",
    "import matplotlib.pyplot as plt\n",
    "import seaborn as sns\n",
    "from statsmodels.tsa.seasonal import STL\n",
    "from statsmodels.tsa.arima.model import ARIMA\n",
    "from statsmodels.tsa.forecasting.stl import STLForecast\n",
    "\n",
    "font_path = '/usr/share/fonts/NotoSansCJKjp/NotoSansMonoCJKjp-Regular.otf'\n",
    "matplotlib.font_manager.fontManager.addfont(font_path)\n",
    "prop = matplotlib.font_manager.FontProperties(fname=font_path)\n",
    "plt.rcParams['font.family'] = 'sans-serif'\n",
    "plt.rcParams['font.sans-serif'] = prop.get_name()\n",
    "os.chdir('/content/kaggle')"
   ]
  },
  {
   "cell_type": "markdown",
   "metadata": {
    "id": "KG7ZwWPedzo_"
   },
   "source": [
    "## 探索的データ解析\n",
    "\n",
    "いくつかの異なるファイルがあるので，各ファイルにどのような種類のデータがあるのか視覚化してみると良いです．"
   ]
  },
  {
   "cell_type": "markdown",
   "metadata": {
    "id": "y1E8IJITd6ux"
   },
   "source": [
    "### sales_train_evaluation.csv"
   ]
  },
  {
   "cell_type": "code",
   "execution_count": null,
   "metadata": {
    "id": "UwnRILA4d2lQ"
   },
   "outputs": [],
   "source": [
    "sales = pd.read_csv('sales_train_evaluation.csv')\n",
    "sales.sample(10)"
   ]
  },
  {
   "cell_type": "markdown",
   "metadata": {
    "id": "jxJkWnr_eDxo"
   },
   "source": [
    "このファイルには `item_id` で指定されたアイテムの販売履歴が含まれます．アイテムには関連する部門とカテゴリが `dept_id` と `cat_id` に格納されています．さらに，場所に関する情報が `state_id` に，特定の店舗に関する情報が `store_id` に格納されています．残りの `d_x` というパターンにマッチする列は，`x` 日の売上数を示しています．データは 2011-01-29 から始まるので，`d_1` には2011-01-29の売上が格納されています．"
   ]
  },
  {
   "cell_type": "markdown",
   "metadata": {
    "id": "EQiu-mPweJc4"
   },
   "source": [
    "トレーニングデータは3つのカテゴリーに大別されます．\n",
    "- 食べ物\n",
    "- 趣味\n",
    "- 家庭用品\n",
    "\n",
    "以下のプロットは，ほとんどの売上が食品であることを示しています．"
   ]
  },
  {
   "cell_type": "code",
   "execution_count": null,
   "metadata": {
    "id": "Hgdvd2gleFMA"
   },
   "outputs": [],
   "source": [
    "total_sales = sales.copy()\n",
    "day_cols = [col for col in sales.columns if col.startswith('d_')]\n",
    "total_sales['total'] = total_sales[day_cols].sum(axis=1)\n",
    "total_sales = total_sales.groupby('cat_id', as_index=False).agg({'total': 'sum'})\n",
    "ax = sns.barplot(total_sales, x='cat_id', y='total');"
   ]
  },
  {
   "cell_type": "markdown",
   "metadata": {
    "id": "Vw8mWglWeb_A"
   },
   "source": [
    "これは時系列データです．予測の際にはデータが時間とともにどのように変化するかを意識する必要があります．"
   ]
  },
  {
   "cell_type": "code",
   "execution_count": null,
   "metadata": {
    "id": "iKn6cvtkeczR"
   },
   "outputs": [],
   "source": [
    "sales_long = sales.groupby('cat_id', as_index=False).agg({col: 'sum' for col in day_cols})\n",
    "sales_long = sales_long.melt(id_vars=['cat_id'], var_name='day', value_name='sales')\n",
    "sales_long['day'] = sales_long['day'].str.replace('d_', '').astype(int)\n",
    "ax = sns.lineplot(sales_long, x='day', y='sales', hue='cat_id')\n",
    "ax.grid()\n",
    "ax.legend();"
   ]
  },
  {
   "cell_type": "markdown",
   "metadata": {
    "id": "K-kDNlR5eknR"
   },
   "source": [
    "この図によるｔ，すべての売上高はおおむね増加していますが，停滞あるいは減少している時期もあります．"
   ]
  },
  {
   "cell_type": "markdown",
   "metadata": {
    "id": "7Z2TVxD2erQR"
   },
   "source": [
    "時系列を分析するための一般的な手法のひとつに，トレンドと季節的要素（シーズナリティ）でデータを分解してモデル化することがあります．このデータでは，トレンドは明らかに上向きですが，売上高の変動も見られる．これらの変動は，周期的，あるいは季節的な何らかの影響によるものかもしれません．分解を行うには，`statsmodels` パッケージを使用します．"
   ]
  },
  {
   "cell_type": "code",
   "execution_count": null,
   "metadata": {
    "id": "I3xqRoOKesOA"
   },
   "outputs": [],
   "source": [
    "sales_long = sales.groupby('cat_id', as_index=False).agg({col: 'sum' for col in day_cols})\n",
    "sales_long = sales_long.melt(id_vars=['cat_id'], var_name='day', value_name='sales')\n",
    "sales_long['day'] = sales_long['day'].str.replace('d_', '').astype(int)\n",
    "sales_long = sales_long.pivot(index='day', columns='cat_id', values='sales')\n",
    "sales_long = sales_long.sort_index()\n",
    "sales_long = sales_long.set_index(pd.to_datetime(pd.read_csv('calendar.csv')['date'].values[:1941]))\n",
    "sales_long = sales_long[sales_long.index.year==2012]\n",
    "stl = STL(sales_long['FOODS'], period=30)\n",
    "res = stl.fit()\n",
    "ax = res.plot()\n",
    "fig = ax.get_figure()\n",
    "fig.set_size_inches(14, 7)\n",
    "ax.tight_layout()"
   ]
  },
  {
   "cell_type": "markdown",
   "metadata": {
    "id": "3SuaajH8ez9Z"
   },
   "source": [
    "上の図は，季節期間を30日に設定した2012年の`FOODS`の分解です．トレンドと季節を分けることで，それぞれが元のデータにどのように寄与しているかを明確に見ることができます．これからわかることは，シーズンの初め，つまりこの場合は月の初めに，売上が一般的に高くなることです．"
   ]
  },
  {
   "cell_type": "markdown",
   "metadata": {
    "id": "1yX2BvQle4g5"
   },
   "source": [
    "### calendar.csv"
   ]
  },
  {
   "cell_type": "code",
   "execution_count": null,
   "metadata": {
    "id": "Zr3QdCDMe1ES"
   },
   "outputs": [],
   "source": [
    "calendar = pd.read_csv('calendar.csv')\n",
    "calendar"
   ]
  },
  {
   "cell_type": "markdown",
   "metadata": {
    "id": "gOVrLFNhe_96"
   },
   "source": [
    "このファイルにはデータセットの各日に関する情報が含まれており， `d_1` のような日を `2011-01-29` のような実際の日付に変換するのに使うことができます．データセットの開始日と終了日は1年単位で揃っていないことに注意してください．これを下図に示します．"
   ]
  },
  {
   "cell_type": "code",
   "execution_count": null,
   "metadata": {
    "id": "7jfLH13ffBMi"
   },
   "outputs": [],
   "source": [
    "sns.catplot(data=calendar, x='year', kind='count', color='tab:blue');"
   ]
  },
  {
   "cell_type": "markdown",
   "metadata": {
    "id": "1K30XhJ-fIL5"
   },
   "source": [
    "このファイルには特別なイベントに関する情報も含まれています．特別なイベントは比較的頻繁に発生しないものの，売上に影響を与える可能性があります．"
   ]
  },
  {
   "cell_type": "code",
   "execution_count": null,
   "metadata": {
    "id": "NnrvgVJrfHlB"
   },
   "outputs": [],
   "source": [
    "event_idx = calendar['event_name_1'].notna() | calendar['event_name_2'].notna()\n",
    "n_events = event_idx.sum()\n",
    "plt.bar(['イベントない日', 'イベントある日'], [calendar.shape[0] - n_events, n_events])"
   ]
  },
  {
   "cell_type": "markdown",
   "metadata": {
    "id": "jTNHSsnufU2J"
   },
   "source": [
    "### sell_prices.csv"
   ]
  },
  {
   "cell_type": "code",
   "execution_count": null,
   "metadata": {
    "id": "eTxDkpMofXSx"
   },
   "outputs": [],
   "source": [
    "sell_prices = pd.read_csv('sell_prices.csv')\n",
    "sell_prices.head()"
   ]
  },
  {
   "cell_type": "markdown",
   "metadata": {
    "id": "t7K8-RhJfaby"
   },
   "source": [
    "このデータは，各店舗の様々な商品の価格を時系列で示したものです．価格は場所によって異なる場合があります．"
   ]
  },
  {
   "cell_type": "code",
   "execution_count": null,
   "metadata": {
    "id": "TRe2_I-yfivs"
   },
   "outputs": [],
   "source": [
    "wm_yr_wk_to_date = calendar[['wm_yr_wk', 'date']].groupby('wm_yr_wk').min()\n",
    "sell_prices_dt = sell_prices.groupby(['wm_yr_wk', 'item_id'], as_index=False)['sell_price'].agg('mean')\n",
    "sell_prices_dt = sell_prices_dt.merge(wm_yr_wk_to_date, how='inner', on='wm_yr_wk')\n",
    "sell_prices_dt['date'] = pd.to_datetime(sell_prices_dt['date'])\n",
    "\n",
    "ax = sns.lineplot(sell_prices_dt[sell_prices_dt['item_id']=='FOODS_1_001'], x='date', y='sell_price', errorbar=None, label='FOODS_1_001')\n",
    "ax = sns.lineplot(sell_prices_dt[sell_prices_dt['item_id']=='HOUSEHOLD_1_001'], x='date', y='sell_price', errorbar=None, label='HOUSEHOLD_1_001')\n",
    "ax = sns.lineplot(sell_prices_dt[sell_prices_dt['item_id']=='HOBBIES_1_001'], x='date', y='sell_price', errorbar=None, label='HOBBIES_1_001')\n",
    "ax.legend()\n",
    "ax.figure.autofmt_xdate()"
   ]
  },
  {
   "cell_type": "markdown",
   "metadata": {
    "id": "R0OyY0pyflvq"
   },
   "source": [
    "この図では3個の商品の価格を示しています．一時的な売れ行きを示すと思われる小規模で短期的な価格下落が見られます．また，長期的な価格の変化も見られますが，これは市場の需要や生産コストに対するメーカーの対応と考えられます．"
   ]
  },
  {
   "cell_type": "markdown",
   "metadata": {
    "id": "0HMyeiIlfscy"
   },
   "source": [
    "## モデリング"
   ]
  },
  {
   "cell_type": "markdown",
   "metadata": {
    "id": "hN7DgCeKf9Zm"
   },
   "source": [
    "### 分解と予測\n",
    "\n",
    "将来の売上を予測するために，上で紹介した時系列分解法と，時系列予測によく使われるモデルであるARIMAモデルを組み合わせます．単純なベースラインモデルとして，カテゴリーごとに全国的な売上高を予測します．このモデルは特定の商品の動向を無視し，立地も考慮しないため，あまり良いスコアは得られないかもしれません．"
   ]
  },
  {
   "cell_type": "code",
   "execution_count": null,
   "metadata": {
    "id": "hxxcx73Bf2lo"
   },
   "outputs": [],
   "source": [
    "sales_modeling = sales.groupby('cat_id', as_index=False).agg({col: 'sum' for col in sales.columns if col.startswith('d_')})\n",
    "sales_modeling = sales_modeling.melt(id_vars=['cat_id'], var_name='day', value_name='sales')\n",
    "sales_modeling['day'] = sales_modeling['day'].str.replace('d_', '').astype(int)\n",
    "sales_modeling = sales_modeling.pivot(index='day', columns='cat_id', values='sales')\n",
    "sales_modeling = sales_modeling.sort_index()\n",
    "sales_modeling = sales_modeling.set_index(pd.to_datetime(pd.read_csv('calendar.csv')['date'].values[:1941]))\n",
    "sales_modeling.index.freq = 'D'\n",
    "\n",
    "forecast = {}\n",
    "for cat_id in sales['cat_id'].unique():\n",
    "    stlf = STLForecast(sales_modeling[cat_id], ARIMA, model_kwargs=dict(order=(1, 1, 0), trend=\"t\"), period=30)\n",
    "    stlf_res = stlf.fit()\n",
    "    forecast[cat_id] = stlf_res.forecast(28)"
   ]
  },
  {
   "cell_type": "code",
   "execution_count": null,
   "metadata": {
    "id": "QpaKTV0UgBfc"
   },
   "outputs": [],
   "source": [
    "fig, ax = plt.subplots()\n",
    "for i, cat_id in enumerate(sales_modeling.columns):\n",
    "  cmap = matplotlib.color_sequences['tab10']\n",
    "  ax.plot(sales_modeling[cat_id].iloc[-100:].index, sales_modeling[cat_id].iloc[-100:].values, color=cmap[i], label=cat_id)\n",
    "  ax.plot(forecast[cat_id].iloc[-100:].index, forecast[cat_id].iloc[-100:].values, color=cmap[i], linestyle='dashed', label=f'{cat_id}予測')\n",
    "  ax.figure.autofmt_xdate()\n",
    "  ax.legend(ncols=3)"
   ]
  },
  {
   "cell_type": "markdown",
   "metadata": {
    "id": "OK14SAcAgHMC"
   },
   "source": [
    "最後に，提出ファイルを作成し，そこに予測値を記入します．総売上高を予測するので，各店舗の平均売上高を得るために店舗数で割らなければなりません．"
   ]
  },
  {
   "cell_type": "code",
   "execution_count": null,
   "metadata": {
    "id": "RWtG_VqjgL3r"
   },
   "outputs": [],
   "source": [
    "def extract_cat_id(string):\n",
    "    return string.split('_')[0]\n",
    "\n",
    "def extract_split(string):\n",
    "    return string.split('_')[-1]"
   ]
  },
  {
   "cell_type": "code",
   "execution_count": null,
   "metadata": {
    "id": "rYRMMYDTgMAV"
   },
   "outputs": [],
   "source": [
    "submission = pd.read_csv('sample_submission.csv')\n",
    "submission['cat_id'] = submission['id'].apply(extract_cat_id)\n",
    "submission['split'] = submission['id'].apply(extract_split)\n",
    "\n",
    "# fill validation with correct data\n",
    "validation_idx = submission['id'].str.endswith('validation')\n",
    "forecast_cols = [f'F{i}' for i in range(1, 29)]\n",
    "d_1914_1941_cols = [f'd_{i}' for i in range(1914, 1942)]\n",
    "submission.loc[validation_idx, forecast_cols] = sales.loc[submission.loc[validation_idx].index, d_1914_1941_cols].values\n",
    "\n",
    "# fill evaluation with forecasted data\n",
    "evaluation_idx = submission['id'].str.endswith('evaluation')\n",
    "for cat_id, forecasted_sales in forecast.items():\n",
    "    cat_idx = submission['cat_id'] == cat_id\n",
    "    num_stores = sum(evaluation_idx & cat_idx)\n",
    "    submission.loc[(evaluation_idx & cat_idx), forecast_cols] = (forecasted_sales / num_stores).values\n",
    "submission.drop(columns=['cat_id', 'split']).to_csv('submission.csv', index=False)\n",
    "submission"
   ]
  },
  {
   "cell_type": "markdown",
   "metadata": {
    "id": "9ZROHvOogWaE"
   },
   "source": [
    "### Kaggleへのアップロード\n",
    "\n",
    "予測はKaggleのAPIを通して直接提出されるため，ファイルを手動でダウンロードし，Kaggleのウェブサイトに再アップロードする必要はありません．"
   ]
  },
  {
   "cell_type": "code",
   "execution_count": null,
   "metadata": {
    "id": "0eiUOOlkgcGc"
   },
   "outputs": [],
   "source": [
    "! kaggle competitions submit -c m5-forecasting-accuracy -f submission.csv -m \"upload\""
   ]
  },
  {
   "cell_type": "markdown",
   "metadata": {
    "id": "VeCRxEPkLyOf"
   },
   "source": [
    "提出後は[提出ページ](https://www.kaggle.com/competitions/m5-forecasting-accuracy/submissions)でスコアを確認します．"
   ]
  },
  {
   "cell_type": "markdown",
   "metadata": {
    "id": "GHJuOo8hhEau"
   },
   "source": [
    "## 性能向上のための提案\n"
   ]
  },
  {
   "cell_type": "markdown",
   "metadata": {
    "id": "Gb8aCXfri67Y"
   },
   "source": [
    "### 異なる季節性期間\n"
   ]
  },
  {
   "cell_type": "markdown",
   "metadata": {
    "id": "-TDc23DMi9OT"
   },
   "source": [
    "時系列分解で，一般的に月の初めに売上が高くなることが示されました．時系列分解に週単位を使用することで，他の傾向を示す可能性があります．\n"
   ]
  },
  {
   "cell_type": "markdown",
   "metadata": {
    "id": "Yf0kfVwSi_wY"
   },
   "source": [
    "### 店舗を個別にモデル化する\n"
   ]
  },
  {
   "cell_type": "markdown",
   "metadata": {
    "id": "AD16co-PjB77"
   },
   "source": [
    "このノートブックでは現在，各店舗の売上が同じであると仮定しています．店舗間の売り上げは普通異なる場合が多いです．\n"
   ]
  },
  {
   "cell_type": "markdown",
   "metadata": {
    "id": "tJ0dk6_tjDfC"
   },
   "source": [
    "### より複雑なモデル\n"
   ]
  },
  {
   "cell_type": "markdown",
   "metadata": {
    "id": "ywxosFJcjFZS"
   },
   "source": [
    "ここで使われているモデルは比較的単純です．LSTMやコンペティションの勝者が使ったモデル等，他のタイプのモデルを使ってみてください．"
   ]
  },
  {
   "cell_type": "markdown",
   "metadata": {
    "id": "CG0f_AJ6jG9A"
   },
   "source": [
    "### 追加データ\n"
   ]
  },
  {
   "cell_type": "markdown",
   "metadata": {
    "id": "r-ZzilHWjIRQ"
   },
   "source": [
    "現在のモデルは販売データしか使っていません．しかし，価格や休日などのデータもあり，予測を改善できるかもしれません．"
   ]
  },
  {
   "cell_type": "code",
   "execution_count": null,
   "metadata": {
    "id": "RB1r_hSuhC5l"
   },
   "outputs": [],
   "source": []
  }
 ],
 "metadata": {
  "colab": {
   "provenance": [],
   "toc_visible": true
  },
  "kernelspec": {
   "display_name": "Python 3",
   "name": "python3"
  },
  "language_info": {
   "name": "python"
  }
 },
 "nbformat": 4,
 "nbformat_minor": 0
}