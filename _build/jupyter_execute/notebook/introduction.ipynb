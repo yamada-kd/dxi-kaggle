{
 "cells": [
  {
   "cell_type": "markdown",
   "metadata": {
    "id": "z_xhvUO10XD6"
   },
   "source": [
    "# グーグルコラボラトリー"
   ]
  },
  {
   "cell_type": "markdown",
   "metadata": {
    "id": "LAVKFvbqUvsY"
   },
   "source": [
    "## グーグルドライブの設定"
   ]
  },
  {
   "cell_type": "markdown",
   "metadata": {
    "id": "X--DWr3USjco"
   },
   "source": [
    "###ドライブのマウント"
   ]
  },
  {
   "cell_type": "markdown",
   "metadata": {
    "id": "n9wJFH39U7HB"
   },
   "source": [
    "グーグルドライブをグーグルコラボラトリーと連携する方法を紹介します．最初に，このグーグルコラボラトリーが動いている計算機にどのようなファイルが置かれているかを確認します．以下のように Linux のコマンドを打ちます．"
   ]
  },
  {
   "cell_type": "code",
   "execution_count": null,
   "metadata": {
    "id": "FM6D6MGWCmhH"
   },
   "outputs": [],
   "source": [
    "! ls"
   ]
  },
  {
   "cell_type": "markdown",
   "metadata": {
    "id": "WVv0FWM2ahJo"
   },
   "source": [
    "<font color=\"Crimson\">(9｀･ω･)9 ｡oO(先頭に `!` をつけてコマンドを打つと，それは Python でなくてこの計算機のシェルのコマンドとして認識されます．)</font>"
   ]
  },
  {
   "cell_type": "markdown",
   "metadata": {
    "id": "0qZmWPkhawE7"
   },
   "source": [
    "上のコマンドを実行した結果 `sample_data` とだけ表示されました．これは Google が最初からこの計算機に置いてくれている機械学習のサンプルデータが入ったフォルダです．使うことはありません．次に，以下のようなプログラムを実行することで，自身のグーグルドライブをこのグーグルコラボラトリーが動いている計算機にマウント（この計算機から自身のグーグルドライブにアクセスできるようにする行為）します．"
   ]
  },
  {
   "cell_type": "code",
   "execution_count": null,
   "metadata": {
    "id": "IpUlx_X3YlTh"
   },
   "outputs": [],
   "source": [
    "#!/usr/bin/env python3\n",
    "from google.colab import drive\n",
    "\n",
    "def main():\n",
    "    drive.mount(\"/content/drive\", force_remount=True)\n",
    "\n",
    "if __name__ == \"__main__\":\n",
    "    main()"
   ]
  },
  {
   "cell_type": "markdown",
   "metadata": {
    "id": "2Q-z55DAbVFy"
   },
   "source": [
    "このプログラムを実行すると以下のようなメッセージが出てきます．「Google ドライブに接続」を選択します．\n",
    "<img src=\"https://drive.google.com/uc?id=1XdZsYif1uxU8EkXrz0wWEkNTBDN7F1Li\" width=\"70%\">"
   ]
  },
  {
   "cell_type": "markdown",
   "metadata": {
    "id": "yNAWBAK5bzA7"
   },
   "source": [
    "その後もアクセスを許可するための選択肢を選ぶとマウントが完了します．マウントが完了したら以下のコマンドを打って，グーグルドライブにアクセスが可能になったかを確認します．"
   ]
  },
  {
   "cell_type": "code",
   "execution_count": null,
   "metadata": {
    "id": "JMkctuZJYldF"
   },
   "outputs": [],
   "source": [
    "! ls"
   ]
  },
  {
   "cell_type": "markdown",
   "metadata": {
    "id": "17iilXuScGTv"
   },
   "source": [
    "`drive` というフォルダが追加されています．以下のように打つと，`MyDrive` というフォルダを確認できます．これが自身のグーグルドライブのフォルダです．"
   ]
  },
  {
   "cell_type": "code",
   "execution_count": null,
   "metadata": {
    "id": "wmwC1f3UcVBQ"
   },
   "outputs": [],
   "source": [
    "! ls drive"
   ]
  },
  {
   "cell_type": "markdown",
   "metadata": {
    "id": "9t2hzNsOcaIO"
   },
   "source": [
    "すなわち，`drive/MyDrive` がマウントしたグーグルドライブの場所です．"
   ]
  },
  {
   "cell_type": "markdown",
   "metadata": {
    "id": "J-h1TangcoGM"
   },
   "source": [
    "<font color=\"Crimson\">(9｀･ω･)9 ｡oO(この `/` は，その左に書かれている名前のフォルダの中に，その右に書かれている名前のフォルダが存在していることを示しています．つまり，`drive/MyDrive` は `drive` というフォルダの中に存在している `MyDrive` を意味します．)</font>"
   ]
  },
  {
   "cell_type": "markdown",
   "metadata": {
    "id": "DcZmL-RAtkK1"
   },
   "source": [
    "### フォルダの作成"
   ]
  },
  {
   "cell_type": "markdown",
   "metadata": {
    "id": "uroEbbR3tnz1"
   },
   "source": [
    "Kaggle に参加するためにグーグルドライブ内に「kaggle」という名前のフォルダを作成すると便利なので以下のコマンドで作っておきます．（以下のコマンドでは「kaggle」というフォルダの中にさらに「token」というフォルダを作成しています．）"
   ]
  },
  {
   "cell_type": "code",
   "execution_count": null,
   "metadata": {
    "id": "4ZP9uDmIZkmJ"
   },
   "outputs": [],
   "source": [
    "! mkdir -p drive/MyDrive/kaggle/token"
   ]
  },
  {
   "cell_type": "markdown",
   "metadata": {
    "id": "UBgIyYPtugny"
   },
   "source": [
    "グーグルのメニューからグーグルドライブにアクセスすると「kaggle」という名前のフォルダが生成されているはずです．また，上で確認した方法と同様に以下のコマンドを打ってもそのフォルダの存在を確認できます．"
   ]
  },
  {
   "cell_type": "code",
   "execution_count": null,
   "metadata": {
    "id": "c7xf_GWAystH"
   },
   "outputs": [],
   "source": [
    "! ls drive/MyDrive"
   ]
  },
  {
   "cell_type": "markdown",
   "metadata": {
    "id": "fqI5DFxdvsY-"
   },
   "source": [
    "## Kaggle の設定"
   ]
  },
  {
   "cell_type": "markdown",
   "metadata": {
    "id": "BeU3x88xvsY_"
   },
   "source": [
    "### Kaggle へのサインイン"
   ]
  },
  {
   "cell_type": "markdown",
   "metadata": {
    "id": "379Poyguv3oQ"
   },
   "source": [
    "以下の URL から Kaggle にアクセスし，サインインします．新たに Kaggle のアカウントを作成する必要はありません．グーグルアカウントでサインインできます．\n",
    "\n",
    "https://www.kaggle.com/"
   ]
  },
  {
   "cell_type": "markdown",
   "metadata": {
    "id": "_HOqmQF3wXuS"
   },
   "source": [
    "<img src=\"https://drive.google.com/uc?id=1FxE0cVkpmTbuUbosXk58DIu_V-v4TkDL\" width=\"25%\">"
   ]
  },
  {
   "cell_type": "markdown",
   "metadata": {
    "id": "7fcnI0HB1DPV"
   },
   "source": [
    "以下のようなユーザー名を決める画面等が出るので指示に従って進めます．"
   ]
  },
  {
   "cell_type": "markdown",
   "metadata": {
    "id": "eKNBlTQ904zv"
   },
   "source": [
    "<img src=\"https://drive.google.com/uc?id=1dyuDoU0NROIxWxotxPAuea7_qCIXtAsI\" width=\"25%\">\n"
   ]
  },
  {
   "cell_type": "markdown",
   "metadata": {
    "id": "7fQRFwstyBip"
   },
   "source": [
    "### Kaggle API Token"
   ]
  },
  {
   "cell_type": "markdown",
   "metadata": {
    "id": "2DEvhJIUyBiu"
   },
   "source": [
    "グーグルコラボラトリーから Kaggle へは Kaggle API というものを使ってアクセスするのですが，そのために必要な Kaggle API Token というものを Kaggle の公式ページからダウンロードします．そのために，公式ページの「Account」にアクセスし，その後，「Create New API Token」をクリックしてファイルをダウンロードします．Kaggle のトップページに表示されている自身のユーザー名をクリックすると「Account」にアクセスするページに到達できます．"
   ]
  },
  {
   "cell_type": "markdown",
   "metadata": {
    "id": "9YUzNIfkzvch"
   },
   "source": [
    "<img src=\"https://drive.google.com/uc?id=12sHnegPrq40qjGXnpkVBmM2rAChe3CrH\" width=\"80%\">"
   ]
  },
  {
   "cell_type": "markdown",
   "metadata": {
    "id": "56mzV8LEz1ps"
   },
   "source": [
    "この操作によって「kaggle.json」という名前のファイルをダウンロードできましたが，今度はこのファイルをグーグルドライブ内の，上の操作で作成した `kaggle/token` にアップロードします．以下のコマンドを打って「kaggle.json」が確認出来たら成功しています．"
   ]
  },
  {
   "cell_type": "code",
   "execution_count": null,
   "metadata": {
    "id": "uZE4RWOK1G-b"
   },
   "outputs": [],
   "source": [
    "! ls drive/MyDrive/kaggle/token"
   ]
  },
  {
   "cell_type": "markdown",
   "metadata": {
    "id": "sQ5eK3UDG8Fm"
   },
   "source": [
    "この Kaggle API Token をこのグーグルコラボラトリーで利用するために以下のプログラムを実行します．"
   ]
  },
  {
   "cell_type": "code",
   "execution_count": null,
   "metadata": {
    "id": "V0OAl6kQ-kxb"
   },
   "outputs": [],
   "source": [
    "#!/usr/bin/env python3\n",
    "import os\n",
    "import json\n",
    "\n",
    "def main():\n",
    "    fin = open(\"/content/drive/MyDrive/kaggle/token/kaggle.json\", \"r\")\n",
    "    json_data = json.load(fin)\n",
    "    fin.close()\n",
    "    os.environ[\"KAGGLE_USERNAME\"] = json_data[\"username\"]\n",
    "    os.environ[\"KAGGLE_KEY\"] = json_data[\"key\"]\n",
    "\n",
    "if __name__ == \"__main__\":\n",
    "    main()"
   ]
  },
  {
   "cell_type": "markdown",
   "metadata": {
    "id": "i11M0CvUHJhR"
   },
   "source": [
    "### API のインストール"
   ]
  },
  {
   "cell_type": "markdown",
   "metadata": {
    "id": "H8TuCNIUHSmv"
   },
   "source": [
    "Kaggle を利用するための API である Kaggle API をインストールする必要があります．以下のコマンドでインストールできます．"
   ]
  },
  {
   "cell_type": "code",
   "execution_count": null,
   "metadata": {
    "id": "GkzC05GO_Rke"
   },
   "outputs": [],
   "source": [
    "! pip3 install kaggle"
   ]
  },
  {
   "cell_type": "markdown",
   "metadata": {
    "id": "RiHY-cxKHXl-"
   },
   "source": [
    "Kaggle API を使えばコマンドラインから様々なことができるようになります．例えば，以下のようなコマンドを打つことで Kaggle で開催しているコンテストのリストを確認することができます．"
   ]
  },
  {
   "cell_type": "code",
   "execution_count": null,
   "metadata": {
    "id": "ob8McZMa_oYP"
   },
   "outputs": [],
   "source": [
    "! kaggle competitions list"
   ]
  },
  {
   "cell_type": "markdown",
   "metadata": {
    "id": "l3abursvHoLj"
   },
   "source": [
    "## Kaggle の実行"
   ]
  },
  {
   "cell_type": "markdown",
   "metadata": {
    "id": "wH7YY3hsHoLj"
   },
   "source": [
    "### 例題"
   ]
  },
  {
   "cell_type": "markdown",
   "metadata": {
    "id": "jhmC8lktIHR3"
   },
   "source": [
    "ここでは，以下の URL からアクセスできる問題に取り組みます．「Allstate Claims Severity」と題されています．Allstate は保険会社です．顧客が保険金を請求する際にその保険金を請求するための主張がどれほど深刻なのか，重大なのかを判断するための指標である重大度を予測する問題です．構造化されたデータが提供されており，機械学習の初学者用のデータセットです．トレーニングデータセットのサイズが程よく大きく，過去の参加者の成績が散らばっているためこれを選びました．\n",
    "\n",
    "https://www.kaggle.com/c/allstate-claims-severity\n",
    "\n",
    "<font color=\"Crimson\">この問題に取り組むために Rules というタブをクリックして確認できる，この問題のルールを理解して承諾することを確認する部分をクリックしてください．</font>\n",
    "\n",
    "<img src=\"https://drive.google.com/uc?id=1qumITMhtTxLIXE8pKKI1TZE26_l5DJTH\" width=\"80%\">\n"
   ]
  },
  {
   "cell_type": "markdown",
   "metadata": {
    "id": "scKbiDux4cyf"
   },
   "source": [
    "Kaggle を初めて利用する場合，以下のような電話番号の確認画面が出ます．"
   ]
  },
  {
   "cell_type": "markdown",
   "metadata": {
    "id": "uygpUop14XE0"
   },
   "source": [
    "<img src=\"https://drive.google.com/uc?id=1mt5tz517Jvo2_15SVfqbIPqkmH7I_huw\" width=\"80%\">\n"
   ]
  },
  {
   "cell_type": "markdown",
   "metadata": {
    "id": "TYrnAhq14pCm"
   },
   "source": [
    "送られてきたコードを入力すると以降の操作が可能になります．"
   ]
  },
  {
   "cell_type": "markdown",
   "metadata": {
    "id": "WgEkLcWt4OfL"
   },
   "source": [
    "<img src=\"https://drive.google.com/uc?id=1tywsQL1AV_Fsvl9_2urBNrBq3k7Pa8wV\" width=\"80%\">\n",
    "\n"
   ]
  },
  {
   "cell_type": "markdown",
   "metadata": {
    "id": "YpsV1CEMIkir"
   },
   "source": [
    "### 作業用フォルダの作成"
   ]
  },
  {
   "cell_type": "markdown",
   "metadata": {
    "id": "iLTnFdkmhr5W"
   },
   "source": [
    "これから Kaggle よりデータセットをダウンロードしますが，データをカレントディレクトリにダウンロードすると，他の問題に取り組みたいときにデータセットをダウンロードした場合に名前が重複してしまったり，また，グーグルコラボラトリーが初期化されてしまったときにファイルを残せなかったりと不便なので，グーグルドライブ内に新たなフォルダを作ります．最初に，以下のようなプロジェクトフォルダを作ります．"
   ]
  },
  {
   "cell_type": "code",
   "execution_count": null,
   "metadata": {
    "id": "2EvaILiqiuFR"
   },
   "outputs": [],
   "source": [
    "! mkdir -p /content/drive/MyDrive/kaggle/project"
   ]
  },
  {
   "cell_type": "markdown",
   "metadata": {
    "id": "vhgzF9kQi12q"
   },
   "source": [
    "作成した `project` フォルダ内に `allstate` というフォルダを作成します．"
   ]
  },
  {
   "cell_type": "code",
   "execution_count": null,
   "metadata": {
    "id": "1joEctkFIpFT"
   },
   "outputs": [],
   "source": [
    "! mkdir -p /content/drive/MyDrive/kaggle/project/allstate"
   ]
  },
  {
   "cell_type": "markdown",
   "metadata": {
    "id": "G-oe6O6EkVcP"
   },
   "source": [
    "### ダウンロード"
   ]
  },
  {
   "cell_type": "markdown",
   "metadata": {
    "id": "ji4dxNxQkcnJ"
   },
   "source": [
    "データセットのダウンロードの方法は以下のページに書かれている通りです．Kaggle API を使ったダウンロード法が示されています．\n",
    "\n",
    "https://www.kaggle.com/c/allstate-claims-severity/data\n"
   ]
  },
  {
   "cell_type": "markdown",
   "metadata": {
    "id": "UCYd1bCIjIGj"
   },
   "source": [
    "ここではこのコマンドを少し変えて，以下のコマンドでダウンロードします．オプション `-p` を加えることで，ダウンロード先を指定しているのです．"
   ]
  },
  {
   "cell_type": "code",
   "execution_count": null,
   "metadata": {
    "id": "q3U18Utf5drx"
   },
   "outputs": [],
   "source": [
    "! kaggle competitions download -c allstate-claims-severity -p /content/drive/MyDrive/kaggle/project/allstate"
   ]
  },
  {
   "cell_type": "markdown",
   "metadata": {
    "id": "wFvV0PsGjOA1"
   },
   "source": [
    "データがダウンロードできたことは以下のコマンドで確認できます．"
   ]
  },
  {
   "cell_type": "code",
   "execution_count": null,
   "metadata": {
    "id": "gxarByAZ5qCO"
   },
   "outputs": [],
   "source": [
    "! ls /content/drive/MyDrive/kaggle/project/allstate"
   ]
  },
  {
   "cell_type": "markdown",
   "metadata": {
    "id": "r70MSmSU-j0N"
   },
   "source": [
    "以下のように `!` ではなくて `%` を加えて使った Linux のコマンドは永続的に実行されます．このようにすることで現在のディレクトリを `/content/drive/MyDrive/kaggle/project/allstate` に変更できます．"
   ]
  },
  {
   "cell_type": "code",
   "execution_count": null,
   "metadata": {
    "id": "uFPS9Adw6xFB"
   },
   "outputs": [],
   "source": [
    "% cd /content/drive/MyDrive/kaggle/project/allstate"
   ]
  },
  {
   "cell_type": "markdown",
   "metadata": {
    "id": "gQ3g6_x-exW8"
   },
   "source": [
    "<font color=\"Crimson\">(9｀･ω･)9 ｡oO(このようにカレントディレクトリをプロジェクトのフォルダに設定しておくのが便利だと思います．)</font>"
   ]
  },
  {
   "cell_type": "markdown",
   "metadata": {
    "id": "E7Mgr-z4jV9f"
   },
   "source": [
    "このフォルダ内には，sample_submission.csv.zip，test.csv.zip，train.csv.zip というファイルが入っています．train.csv.zip は学習データセット，test.csv.zip はテストデータセットです．圧縮されているファイルは以下のようなコマンドを打つことで解凍することができます（この sample_submission.csv.zip 以外はしなくて良いです）．\n",
    "\n"
   ]
  },
  {
   "cell_type": "code",
   "execution_count": null,
   "metadata": {
    "id": "gDrlchLa9wMo"
   },
   "outputs": [],
   "source": [
    "! unzip sample_submission.csv.zip"
   ]
  },
  {
   "cell_type": "markdown",
   "metadata": {
    "id": "Lj6-EdKf_usD"
   },
   "source": [
    "<font color=\"Crimson\">(9｀･ω･)9 ｡oO(大きなファイルサイズのデータは解凍してはいけません．そのまま Python で読み込んで処理します．)</font>"
   ]
  },
  {
   "cell_type": "markdown",
   "metadata": {
    "id": "gGpB_vMq91xy"
   },
   "source": [
    "中身は以下のような感じで見ることができます．"
   ]
  },
  {
   "cell_type": "code",
   "execution_count": null,
   "metadata": {
    "id": "K_XaIWXO918Z"
   },
   "outputs": [],
   "source": [
    "! head -n 15 sample_submission.csv"
   ]
  },
  {
   "cell_type": "markdown",
   "metadata": {
    "id": "PTP9v7tnk6Yx"
   },
   "source": [
    "### 解析の手順"
   ]
  },
  {
   "cell_type": "markdown",
   "metadata": {
    "id": "Rqnz7ayRk7N2"
   },
   "source": [
    "ここから先の解析についてはこのコンテンツではお教えしません．色々な解析ができると思いますので色々とやってみてください．\n",
    "\n",
    "*   データセットの中身を確認する\n",
    "*   データを可視化する\n",
    "*   データを整形する\n",
    "*   機械学習する\n",
    "\n",
    "データはグーグルトライブ内にダウンロードしたのでウェブブラウザからグーグルドライブにアクセスすると中身を GUI で確認することもできます．\n"
   ]
  },
  {
   "cell_type": "markdown",
   "metadata": {
    "id": "Tlav81M0ktv9"
   },
   "source": [
    "<font color=\"Crimson\">(9｀･ω･)9 ｡oO(不明なことや解析のコツは講師に聞いてみてください．)</font>"
   ]
  },
  {
   "cell_type": "markdown",
   "metadata": {
    "id": "8pCwl9s_kz2R"
   },
   "source": [
    "Kaggle に取り組む際のコツがあります．以下の「Discussion」というページには参加者らが自分たちの疑問や知識をディスカッションした結果が残されています．これを読むと問題に対する理解が深まります．\n",
    "\n",
    "https://www.kaggle.com/c/allstate-claims-severity/discussion\n",
    "\n",
    "また，以下の「Code」というページを読むこともとても有用です．\n",
    "\n",
    "https://www.kaggle.com/c/allstate-claims-severity/code\n",
    "\n",
    "まずはこれらを読んで全体を把握するのが良いのだと思います．"
   ]
  },
  {
   "cell_type": "markdown",
   "metadata": {
    "id": "7clwNoupltkL"
   },
   "source": [
    "### 結果の投稿"
   ]
  },
  {
   "cell_type": "markdown",
   "metadata": {
    "id": "JOdRlhlTlyZD"
   },
   "source": [
    "テストデータセットに対して行った結果は sample_submission.csv と同じフォーマットに整えます．これを Kaggle に投稿しますが，この操作も API を利用して行うことができます．投稿に必要なコマンドは以下のページに示されています．\n",
    "\n",
    "https://www.kaggle.com/c/allstate-claims-severity/submit\n"
   ]
  },
  {
   "cell_type": "markdown",
   "metadata": {
    "id": "IUVGRIFtmLCo"
   },
   "source": [
    "ここでは，sample_submission.csv をそのまま投稿してみます．`-f` によってファイルの場所を指定します．以下のように打ちます．`-m` のところには何かしらのメモを書くことができます．カレントディレクトリを変更していない場合は `-f` に指定する値はそのファイルの場所を正確に記述してください．"
   ]
  },
  {
   "cell_type": "code",
   "execution_count": null,
   "metadata": {
    "id": "mhc4rjlRlT50"
   },
   "outputs": [],
   "source": [
    "! kaggle competitions submit -c allstate-claims-severity -f sample_submission.csv -m \"Message\""
   ]
  },
  {
   "cell_type": "markdown",
   "metadata": {
    "id": "jVo5UculmXTD"
   },
   "source": [
    "成功すると以下のようなメッセージが表示されるはずです．\n",
    "\n",
    "```\n",
    "Successfully submitted to Allstate Claims Severity\n",
    "```"
   ]
  },
  {
   "cell_type": "markdown",
   "metadata": {
    "id": "a5di5GRjmsle"
   },
   "source": [
    "以下のページ，My Submissions というページですが，ここにアクセスすると投稿した結果の評価値を得ることができます．\n",
    "\n",
    "https://www.kaggle.com/c/allstate-claims-severity/submissions"
   ]
  },
  {
   "cell_type": "markdown",
   "metadata": {
    "id": "nHDYkkJim_Di"
   },
   "source": [
    "以下のページ，Leaderborad の結果を超えられるように頑張ってください．\n",
    "\n",
    "https://www.kaggle.com/c/allstate-claims-severity/leaderboard"
   ]
  },
  {
   "cell_type": "markdown",
   "metadata": {
    "id": "_rfC8Kj03omW"
   },
   "source": [
    "<font color=\"Crimson\">(9｀･ω･)9 ｡oO(終わりです．頑張ってください！)</font>"
   ]
  }
 ],
 "metadata": {
  "colab": {
   "provenance": [],
   "toc_visible": true
  },
  "kernelspec": {
   "display_name": "Python 3",
   "name": "python3"
  },
  "language_info": {
   "name": "python"
  }
 },
 "nbformat": 4,
 "nbformat_minor": 0
}