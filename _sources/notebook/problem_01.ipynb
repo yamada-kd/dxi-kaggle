{
  "nbformat": 4,
  "nbformat_minor": 0,
  "metadata": {
    "colab": {
      "provenance": [],
      "toc_visible": true
    },
    "kernelspec": {
      "name": "python3",
      "display_name": "Python 3"
    },
    "language_info": {
      "name": "python"
    }
  },
  "cells": [
    {
      "cell_type": "markdown",
      "metadata": {
        "id": "z_xhvUO10XD6"
      },
      "source": [
        "# 問題１"
      ]
    },
    {
      "cell_type": "markdown",
      "metadata": {
        "id": "LAVKFvbqUvsY"
      },
      "source": [
        "## この問題について"
      ]
    },
    {
      "cell_type": "markdown",
      "source": [
        "ほげ"
      ],
      "metadata": {
        "id": "vRNg2Tl3hxui"
      }
    },
    {
      "cell_type": "markdown",
      "metadata": {
        "id": "X--DWr3USjco"
      },
      "source": [
        "## ヒント"
      ]
    },
    {
      "cell_type": "markdown",
      "source": [
        "ほげ"
      ],
      "metadata": {
        "id": "AJcKX2RAhzJg"
      }
    }
  ]
}